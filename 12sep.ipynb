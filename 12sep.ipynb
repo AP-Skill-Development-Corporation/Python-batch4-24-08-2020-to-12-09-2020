{
 "cells": [
  {
   "cell_type": "markdown",
   "metadata": {},
   "source": [
    "#### Oops conti....\n"
   ]
  },
  {
   "cell_type": "code",
   "execution_count": 9,
   "metadata": {},
   "outputs": [],
   "source": [
    "#consider student details\n",
    "class student():\n",
    "    def __init__(self,name,id):\n",
    "        self.name1=name\n",
    "        self.id1=id\n",
    "    def display(self):\n",
    "        print(self.name1,self.id1)\n",
    "    def data(self):\n",
    "        print(self.name1,self.id1)\n",
    "#object creation\n",
    "#objectname=classname\n",
    "stu1=student(\"abc\",\"28\")\n",
    "stu2=student(\"def\",\"40\")"
   ]
  },
  {
   "cell_type": "code",
   "execution_count": 10,
   "metadata": {},
   "outputs": [
    {
     "name": "stdout",
     "output_type": "stream",
     "text": [
      "abc 28\n"
     ]
    }
   ],
   "source": [
    "#accessing display method to print student1 details\n",
    "stu1.display()"
   ]
  },
  {
   "cell_type": "code",
   "execution_count": 11,
   "metadata": {},
   "outputs": [
    {
     "name": "stdout",
     "output_type": "stream",
     "text": [
      "def 40\n"
     ]
    }
   ],
   "source": [
    "#accessing display method to print student2 details\n",
    "stu2.data()"
   ]
  },
  {
   "cell_type": "markdown",
   "metadata": {},
   "source": [
    "#### inheritance\n",
    "* inheritance is an important aspect of oops paradigm.\n",
    "* it provides code reusability to the program because we can use an existing class to create new class.\n",
    "* In python,by using inheritance we can create a class which uses all the properties and behaviours of the another class. \n",
    "* The new class is known as derived class or child class.\n",
    "* parent class or baseclass\n",
    "* **format**: class childclass(parentclass):\n",
    "* to inheriting something from parent class to child class."
   ]
  },
  {
   "cell_type": "code",
   "execution_count": 13,
   "metadata": {},
   "outputs": [],
   "source": [
    "###### singe level inheritance(one base/parent class,one child/derived class)"
   ]
  },
  {
   "cell_type": "code",
   "execution_count": 14,
   "metadata": {},
   "outputs": [],
   "source": [
    "class classA():#classA having 2 varaibles-->a,b\n",
    "    a,b=10,20\n",
    "    def display():\n",
    "        print(\"i am from classA\")\n",
    "class classB(classA):# classB having 4 variables-->a,b,c,d\n",
    "    c,d=5,8\n",
    "    def show():\n",
    "        print(\" i am from classB\")"
   ]
  },
  {
   "cell_type": "code",
   "execution_count": 15,
   "metadata": {},
   "outputs": [],
   "source": [
    "obj = classB"
   ]
  },
  {
   "cell_type": "code",
   "execution_count": 16,
   "metadata": {},
   "outputs": [
    {
     "name": "stdout",
     "output_type": "stream",
     "text": [
      "['__class__', '__delattr__', '__dict__', '__dir__', '__doc__', '__eq__', '__format__', '__ge__', '__getattribute__', '__gt__', '__hash__', '__init__', '__init_subclass__', '__le__', '__lt__', '__module__', '__ne__', '__new__', '__reduce__', '__reduce_ex__', '__repr__', '__setattr__', '__sizeof__', '__str__', '__subclasshook__', '__weakref__', 'a', 'b', 'c', 'd', 'display', 'show']\n"
     ]
    }
   ],
   "source": [
    "print(dir(obj))"
   ]
  },
  {
   "cell_type": "code",
   "execution_count": 17,
   "metadata": {},
   "outputs": [
    {
     "data": {
      "text/plain": [
       "10"
      ]
     },
     "execution_count": 17,
     "metadata": {},
     "output_type": "execute_result"
    }
   ],
   "source": [
    "obj.a"
   ]
  },
  {
   "cell_type": "code",
   "execution_count": 18,
   "metadata": {},
   "outputs": [
    {
     "name": "stdout",
     "output_type": "stream",
     "text": [
      "i am from classA\n"
     ]
    }
   ],
   "source": [
    "obj.b\n"
   ]
  },
  {
   "cell_type": "code",
   "execution_count": 19,
   "metadata": {},
   "outputs": [
    {
     "name": "stdout",
     "output_type": "stream",
     "text": [
      "i am from classA\n"
     ]
    }
   ],
   "source": [
    "obj.display()"
   ]
  },
  {
   "cell_type": "code",
   "execution_count": 20,
   "metadata": {},
   "outputs": [],
   "source": [
    "obj1=classA"
   ]
  },
  {
   "cell_type": "code",
   "execution_count": 21,
   "metadata": {},
   "outputs": [
    {
     "ename": "AttributeError",
     "evalue": "type object 'classA' has no attribute 'c'",
     "output_type": "error",
     "traceback": [
      "\u001b[1;31m---------------------------------------------------------------------------\u001b[0m",
      "\u001b[1;31mAttributeError\u001b[0m                            Traceback (most recent call last)",
      "\u001b[1;32m<ipython-input-21-d3a4328be8d1>\u001b[0m in \u001b[0;36m<module>\u001b[1;34m\u001b[0m\n\u001b[1;32m----> 1\u001b[1;33m \u001b[0mobj1\u001b[0m\u001b[1;33m.\u001b[0m\u001b[0mc\u001b[0m\u001b[1;33m\u001b[0m\u001b[1;33m\u001b[0m\u001b[0m\n\u001b[0m",
      "\u001b[1;31mAttributeError\u001b[0m: type object 'classA' has no attribute 'c'"
     ]
    }
   ],
   "source": [
    "obj1.c"
   ]
  },
  {
   "cell_type": "code",
   "execution_count": 23,
   "metadata": {},
   "outputs": [
    {
     "name": "stdout",
     "output_type": "stream",
     "text": [
      "165\n"
     ]
    }
   ],
   "source": [
    "class classA():\n",
    "    a,b=27,56\n",
    "    def add(a,b):\n",
    "        return a+b\n",
    "class classB(classA):\n",
    "    c,d=45,37\n",
    "    def add(a,b,c,d):\n",
    "        return a+b+c+d\n",
    "obj=classB\n",
    "print(obj.add(27,56,45,37))\n",
    "        \n",
    "        "
   ]
  },
  {
   "cell_type": "code",
   "execution_count": 27,
   "metadata": {},
   "outputs": [
    {
     "name": "stdout",
     "output_type": "stream",
     "text": [
      "4\n",
      "2\n",
      "3\n",
      "8\n"
     ]
    }
   ],
   "source": [
    "class A():\n",
    "    def __init__(self,a,b):\n",
    "        self.a=a\n",
    "        self.b=b\n",
    "    def display(self):\n",
    "        print(self.a*self.c)\n",
    "class B(A):\n",
    "    def __init__(self,a,b,c):\n",
    "        self.c=c\n",
    "        super().__init__(a,b)\n",
    "    def show(self):\n",
    "        print(self.c)\n",
    "        print(self.a)\n",
    "        print(self.b)\n",
    "\n",
    "obj=B(2,3,4)\n",
    "obj.show()\n",
    "obj.display()"
   ]
  },
  {
   "cell_type": "code",
   "execution_count": 31,
   "metadata": {},
   "outputs": [
    {
     "name": "stdout",
     "output_type": "stream",
     "text": [
      "i am from classC\n",
      "i am from classA\n",
      "i am from classB\n"
     ]
    }
   ],
   "source": [
    "##multilevel inheritance(there is no fixed number of parent child classes)\n",
    "class A():\n",
    "    def classA():\n",
    "        print(\"i am from classA\")\n",
    "class B(A):\n",
    "    def classB():\n",
    "        print(\"i am from classB\")\n",
    "class C(B):\n",
    "    def classC():\n",
    "        print(\"i am from classC\")\n",
    "obj=C\n",
    "obj.classC()\n",
    "obj.classA()\n",
    "obj.classB()"
   ]
  },
  {
   "cell_type": "code",
   "execution_count": 33,
   "metadata": {},
   "outputs": [
    {
     "name": "stdout",
     "output_type": "stream",
     "text": [
      "i am from classA\n",
      "i am from classB\n",
      "i am from classC\n"
     ]
    }
   ],
   "source": [
    "###multiple inheritance(multiple baseclass,one derived class)\n",
    "class A():\n",
    "    def classA():\n",
    "        print(\"i am from classA\")\n",
    "class B():\n",
    "    def classB():\n",
    "        print(\"i am from classB\")\n",
    "class C(A,B):\n",
    "    def classC():\n",
    "        print(\"i am from classC\")\n",
    "obj=C\n",
    "obj.classA()\n",
    "obj.classB()\n",
    "obj.classC()\n",
    "    "
   ]
  },
  {
   "cell_type": "code",
   "execution_count": 42,
   "metadata": {},
   "outputs": [
    {
     "name": "stdout",
     "output_type": "stream",
     "text": [
      "i am from classC\n",
      "i am from classA\n",
      "i am from classA\n",
      "i am from classB\n"
     ]
    }
   ],
   "source": [
    "#heirarchical inheritance(single parent class and multiple child classes)\n",
    "class A():\n",
    "    def classA():\n",
    "        print(\"i am from classA\")\n",
    "class B(A):\n",
    "    def classB():\n",
    "        print(\"i am from classB\")\n",
    "class C(A):\n",
    "    def classC():\n",
    "        print(\"i am from classC\")\n",
    "obj=C\n",
    "obj.classC()\n",
    "obj.classA()\n",
    "obj1=B\n",
    "obj1.classA()\n",
    "obj1.classB()"
   ]
  },
  {
   "cell_type": "code",
   "execution_count": 45,
   "metadata": {},
   "outputs": [
    {
     "name": "stdout",
     "output_type": "stream",
     "text": [
      "i aam from classA\n",
      "i am from classC\n"
     ]
    }
   ],
   "source": [
    "##hybrid inheritance(It is a collection of multiple and multilevel)\n",
    "class A():\n",
    "    def classA():\n",
    "        print(\"i aam from classA\")\n",
    "class B():\n",
    "    def classB():\n",
    "        print(\"i am from classB\")\n",
    "class C(A,B):\n",
    "    def classC():\n",
    "        print(\"i am from classC\")\n",
    "class D(C):\n",
    "    def classD():\n",
    "        print(\"i am from classD\")\n",
    "class E(D):\n",
    "    def classE():\n",
    "        print(\"i am from classE\")\n",
    "obj=E\n",
    "obj.classA()\n",
    "obj.classC()"
   ]
  },
  {
   "cell_type": "code",
   "execution_count": null,
   "metadata": {},
   "outputs": [],
   "source": []
  }
 ],
 "metadata": {
  "kernelspec": {
   "display_name": "Python 3",
   "language": "python",
   "name": "python3"
  },
  "language_info": {
   "codemirror_mode": {
    "name": "ipython",
    "version": 3
   },
   "file_extension": ".py",
   "mimetype": "text/x-python",
   "name": "python",
   "nbconvert_exporter": "python",
   "pygments_lexer": "ipython3",
   "version": "3.7.3"
  }
 },
 "nbformat": 4,
 "nbformat_minor": 2
}
