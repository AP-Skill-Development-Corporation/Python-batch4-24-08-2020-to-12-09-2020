{
 "cells": [
  {
   "cell_type": "markdown",
   "metadata": {},
   "source": [
    "## Python Basics"
   ]
  },
  {
   "cell_type": "code",
   "execution_count": 86,
   "metadata": {},
   "outputs": [
    {
     "name": "stdout",
     "output_type": "stream",
     "text": [
      "Online Training on Python Programming\n"
     ]
    }
   ],
   "source": [
    "# single line comment\n",
    "print(\"Online Training on Python Programming\")"
   ]
  },
  {
   "cell_type": "code",
   "execution_count": 87,
   "metadata": {},
   "outputs": [
    {
     "name": "stdout",
     "output_type": "stream",
     "text": [
      "single variable: 12\n"
     ]
    }
   ],
   "source": [
    "a = 12\n",
    "print('single variable:',a)"
   ]
  },
  {
   "cell_type": "code",
   "execution_count": 5,
   "metadata": {},
   "outputs": [
    {
     "name": "stdout",
     "output_type": "stream",
     "text": [
      "Online Training on Python Programming\n"
     ]
    }
   ],
   "source": [
    "\"\"\"\n",
    "Multi\n",
    "line \n",
    "comment\n",
    "\"\"\"\n",
    "print(\"Online Training on Python Programming\")"
   ]
  },
  {
   "cell_type": "code",
   "execution_count": 89,
   "metadata": {},
   "outputs": [
    {
     "name": "stdout",
     "output_type": "stream",
     "text": [
      " keerthi\t keerthi\t keerthi\t keerthi\t keerthi\t keerthi\t keerthi\t keerthi\t keerthi\t keerthi\t keerthi\t keerthi\t keerthi\t keerthi\t keerthi\t keerthi\t keerthi\t keerthi\t keerthi\t keerthi\t keerthi\t keerthi\t keerthi\t keerthi\t keerthi\t keerthi\t keerthi\t keerthi\t keerthi\t keerthi\t keerthi\t keerthi\t keerthi\t keerthi\t keerthi\t keerthi\t keerthi\t keerthi\t keerthi\t keerthi\t keerthi\t keerthi\t keerthi\t keerthi\t keerthi\t keerthi\t keerthi\t keerthi\t keerthi\t keerthi\t keerthi\t keerthi\t keerthi\t keerthi\t keerthi\t keerthi\t keerthi\t keerthi\t keerthi\t keerthi\t keerthi\t keerthi\t keerthi\t keerthi\t keerthi\t keerthi\t keerthi\t keerthi\t keerthi\t keerthi\t keerthi\t keerthi\t keerthi\t keerthi\t keerthi\t keerthi\t keerthi\t keerthi\t keerthi\t keerthi\t keerthi\t keerthi\t keerthi\t keerthi\t keerthi\t keerthi\t keerthi\t keerthi\t keerthi\t keerthi\t keerthi\t keerthi\t keerthi\t keerthi\t keerthi\t keerthi\t keerthi\t keerthi\t keerthi\t keerthi\t\n"
     ]
    }
   ],
   "source": [
    "print(100* ' keerthi\\t')"
   ]
  },
  {
   "cell_type": "code",
   "execution_count": 88,
   "metadata": {},
   "outputs": [
    {
     "name": "stdout",
     "output_type": "stream",
     "text": [
      " keerthi\n",
      " keerthi\n",
      " keerthi\n",
      " keerthi\n",
      " keerthi\n",
      " keerthi\n",
      " keerthi\n",
      " keerthi\n",
      " keerthi\n",
      " keerthi\n",
      " keerthi\n",
      " keerthi\n",
      " keerthi\n",
      " keerthi\n",
      " keerthi\n",
      " keerthi\n",
      " keerthi\n",
      " keerthi\n",
      " keerthi\n",
      " keerthi\n",
      " keerthi\n",
      " keerthi\n",
      " keerthi\n",
      " keerthi\n",
      " keerthi\n",
      " keerthi\n",
      " keerthi\n",
      " keerthi\n",
      " keerthi\n",
      " keerthi\n",
      " keerthi\n",
      " keerthi\n",
      " keerthi\n",
      " keerthi\n",
      " keerthi\n",
      " keerthi\n",
      " keerthi\n",
      " keerthi\n",
      " keerthi\n",
      " keerthi\n",
      " keerthi\n",
      " keerthi\n",
      " keerthi\n",
      " keerthi\n",
      " keerthi\n",
      " keerthi\n",
      " keerthi\n",
      " keerthi\n",
      " keerthi\n",
      " keerthi\n",
      " keerthi\n",
      " keerthi\n",
      " keerthi\n",
      " keerthi\n",
      " keerthi\n",
      " keerthi\n",
      " keerthi\n",
      " keerthi\n",
      " keerthi\n",
      " keerthi\n",
      " keerthi\n",
      " keerthi\n",
      " keerthi\n",
      " keerthi\n",
      " keerthi\n",
      " keerthi\n",
      " keerthi\n",
      " keerthi\n",
      " keerthi\n",
      " keerthi\n",
      " keerthi\n",
      " keerthi\n",
      " keerthi\n",
      " keerthi\n",
      " keerthi\n",
      " keerthi\n",
      " keerthi\n",
      " keerthi\n",
      " keerthi\n",
      " keerthi\n",
      " keerthi\n",
      " keerthi\n",
      " keerthi\n",
      " keerthi\n",
      " keerthi\n",
      " keerthi\n",
      " keerthi\n",
      " keerthi\n",
      " keerthi\n",
      " keerthi\n",
      " keerthi\n",
      " keerthi\n",
      " keerthi\n",
      " keerthi\n",
      " keerthi\n",
      " keerthi\n",
      " keerthi\n",
      " keerthi\n",
      " keerthi\n",
      " keerthi\n",
      "\n"
     ]
    }
   ],
   "source": [
    "print(100* ' keerthi\\n')"
   ]
  },
  {
   "cell_type": "markdown",
   "metadata": {},
   "source": [
    "## Python Keywords\n",
    "- Keywords are the reserved words in python.\n",
    "- We can not use a keyword as a variable name, function name or any other identifier"
   ]
  },
  {
   "cell_type": "code",
   "execution_count": 14,
   "metadata": {},
   "outputs": [
    {
     "name": "stdout",
     "output_type": "stream",
     "text": [
      "['False', 'None', 'True', 'and', 'as', 'assert', 'async', 'await', 'break', 'class', 'continue', 'def', 'del', 'elif', 'else', 'except', 'finally', 'for', 'from', 'global', 'if', 'import', 'in', 'is', 'lambda', 'nonlocal', 'not', 'or', 'pass', 'raise', 'return', 'try', 'while', 'with', 'yield']\n"
     ]
    }
   ],
   "source": [
    "import keyword\n",
    "print(keyword.kwlist)"
   ]
  },
  {
   "cell_type": "code",
   "execution_count": null,
   "metadata": {},
   "outputs": [],
   "source": [
    "import keyword\n",
    "res = keyword.kwlist\n",
    "print(len(res))"
   ]
  },
  {
   "cell_type": "markdown",
   "metadata": {},
   "source": [
    "## Variable\n",
    "- A python variable is a reserved memory location to store values"
   ]
  },
  {
   "cell_type": "code",
   "execution_count": 15,
   "metadata": {},
   "outputs": [
    {
     "data": {
      "text/plain": [
       "123"
      ]
     },
     "execution_count": 15,
     "metadata": {},
     "output_type": "execute_result"
    }
   ],
   "source": [
    "a = 123 # single variable assignment\n",
    "a"
   ]
  },
  {
   "cell_type": "code",
   "execution_count": 16,
   "metadata": {},
   "outputs": [
    {
     "data": {
      "text/plain": [
       "'apssdc'"
      ]
     },
     "execution_count": 16,
     "metadata": {},
     "output_type": "execute_result"
    }
   ],
   "source": [
    "a = 'apssdc'\n",
    "a"
   ]
  },
  {
   "cell_type": "code",
   "execution_count": 20,
   "metadata": {},
   "outputs": [
    {
     "name": "stdout",
     "output_type": "stream",
     "text": [
      "12 13 14\n"
     ]
    }
   ],
   "source": [
    "# multiple variable assignment with multiple values\n",
    "\n",
    "x,y,z = 12,13,14\n",
    "# print(x)\n",
    "# print(y)\n",
    "# print(z)\n",
    "print(x,y,z)"
   ]
  },
  {
   "cell_type": "code",
   "execution_count": 21,
   "metadata": {
    "scrolled": true
   },
   "outputs": [
    {
     "name": "stdout",
     "output_type": "stream",
     "text": [
      "12 \n",
      " 13 \n",
      " 14\n"
     ]
    }
   ],
   "source": [
    "print(x,'\\n',y,'\\n',z)"
   ]
  },
  {
   "cell_type": "code",
   "execution_count": 24,
   "metadata": {},
   "outputs": [
    {
     "data": {
      "text/plain": [
       "12"
      ]
     },
     "execution_count": 24,
     "metadata": {},
     "output_type": "execute_result"
    }
   ],
   "source": [
    "x,y,z = 12,13,14\n",
    "x"
   ]
  },
  {
   "cell_type": "code",
   "execution_count": 25,
   "metadata": {},
   "outputs": [
    {
     "data": {
      "text/plain": [
       "13"
      ]
     },
     "execution_count": 25,
     "metadata": {},
     "output_type": "execute_result"
    }
   ],
   "source": [
    "y"
   ]
  },
  {
   "cell_type": "code",
   "execution_count": 27,
   "metadata": {},
   "outputs": [
    {
     "name": "stdout",
     "output_type": "stream",
     "text": [
      "12\n",
      "12\n"
     ]
    }
   ],
   "source": [
    "# multiple variable assignment\n",
    "m = 12\n",
    "q=w=e=m\n",
    "print(q)\n",
    "print(e)"
   ]
  },
  {
   "cell_type": "markdown",
   "metadata": {},
   "source": [
    "## Data Types and Conversions\n",
    "- Int\n",
    "- Float\n",
    "- String"
   ]
  },
  {
   "cell_type": "code",
   "execution_count": 28,
   "metadata": {},
   "outputs": [
    {
     "data": {
      "text/plain": [
       "int"
      ]
     },
     "execution_count": 28,
     "metadata": {},
     "output_type": "execute_result"
    }
   ],
   "source": [
    "n1 = 123\n",
    "type(n1)"
   ]
  },
  {
   "cell_type": "code",
   "execution_count": 29,
   "metadata": {},
   "outputs": [
    {
     "data": {
      "text/plain": [
       "float"
      ]
     },
     "execution_count": 29,
     "metadata": {},
     "output_type": "execute_result"
    }
   ],
   "source": [
    "n2 = 14.6\n",
    "type(n2)"
   ]
  },
  {
   "cell_type": "code",
   "execution_count": 30,
   "metadata": {},
   "outputs": [
    {
     "data": {
      "text/plain": [
       "str"
      ]
     },
     "execution_count": 30,
     "metadata": {},
     "output_type": "execute_result"
    }
   ],
   "source": [
    "n3 = 'keerthi'\n",
    "type(n3)"
   ]
  },
  {
   "cell_type": "code",
   "execution_count": 33,
   "metadata": {},
   "outputs": [
    {
     "name": "stdout",
     "output_type": "stream",
     "text": [
      "13\n",
      "<class 'int'>\n"
     ]
    }
   ],
   "source": [
    "n1 = 13.2\n",
    "n2 = int(n1)\n",
    "print(n2)\n",
    "print(type(n2))"
   ]
  },
  {
   "cell_type": "markdown",
   "metadata": {},
   "source": [
    "## Indentation"
   ]
  },
  {
   "cell_type": "code",
   "execution_count": 35,
   "metadata": {},
   "outputs": [
    {
     "name": "stdout",
     "output_type": "stream",
     "text": [
      "true\n"
     ]
    }
   ],
   "source": [
    "n1 = 13\n",
    "n2 = 12\n",
    "if n1>n2:\n",
    "    print('true')"
   ]
  },
  {
   "cell_type": "markdown",
   "metadata": {},
   "source": [
    "## Reading input dynamically"
   ]
  },
  {
   "cell_type": "code",
   "execution_count": 37,
   "metadata": {},
   "outputs": [
    {
     "name": "stdout",
     "output_type": "stream",
     "text": [
      "apssdc\n",
      "apssdc\n",
      "<class 'str'>\n"
     ]
    }
   ],
   "source": [
    "x = input()\n",
    "print(x)\n",
    "print(type(x))"
   ]
  },
  {
   "cell_type": "code",
   "execution_count": 43,
   "metadata": {},
   "outputs": [
    {
     "name": "stdout",
     "output_type": "stream",
     "text": [
      "2\n",
      "3\n",
      "<class 'str'> <class 'str'>\n",
      "Addition is: 23\n"
     ]
    }
   ],
   "source": [
    "a = input()\n",
    "b = input()\n",
    "print(type(a),type(b))\n",
    "print('Addition is:',a+b)"
   ]
  },
  {
   "cell_type": "code",
   "execution_count": 46,
   "metadata": {},
   "outputs": [
    {
     "name": "stdout",
     "output_type": "stream",
     "text": [
      "2\n",
      "3\n",
      "Addition is: 5\n",
      "5\n"
     ]
    }
   ],
   "source": [
    "a = int(input())\n",
    "b = int(input())\n",
    "print('Addition is:',a+b)\n",
    "print(a+b)"
   ]
  },
  {
   "cell_type": "markdown",
   "metadata": {},
   "source": [
    "## Operators\n",
    "1. Arithmetic Operators\n",
    "2. Assignment Operators\n",
    "3. Comparison Operators\n",
    "4. Logical Operators\n",
    "5. Identity Operators\n",
    "6. Membership Operators\n",
    "7. Bitwise Operators"
   ]
  },
  {
   "cell_type": "markdown",
   "metadata": {},
   "source": [
    "1. Arithmetic Operator"
   ]
  },
  {
   "cell_type": "code",
   "execution_count": 47,
   "metadata": {},
   "outputs": [
    {
     "name": "stdout",
     "output_type": "stream",
     "text": [
      "8\n",
      "2\n",
      "15\n",
      "1.6666666666666667\n",
      "2\n",
      "1\n",
      "125\n"
     ]
    }
   ],
   "source": [
    "a,b = 5,3\n",
    "print(a+b)\n",
    "print(a-b)\n",
    "print(a*b)\n",
    "print(a/b)\n",
    "print(a%b)\n",
    "print(a//b) # Floor Division\n",
    "print(a**b) # Exponentiation"
   ]
  },
  {
   "cell_type": "code",
   "execution_count": 48,
   "metadata": {},
   "outputs": [],
   "source": [
    "import math"
   ]
  },
  {
   "cell_type": "code",
   "execution_count": 52,
   "metadata": {},
   "outputs": [
    {
     "name": "stdout",
     "output_type": "stream",
     "text": [
      "2\n"
     ]
    }
   ],
   "source": [
    "print(math.ceil(5/3))"
   ]
  },
  {
   "cell_type": "markdown",
   "metadata": {},
   "source": [
    "2. Assignment Operators"
   ]
  },
  {
   "cell_type": "code",
   "execution_count": 53,
   "metadata": {},
   "outputs": [
    {
     "data": {
      "text/plain": [
       "12"
      ]
     },
     "execution_count": 53,
     "metadata": {},
     "output_type": "execute_result"
    }
   ],
   "source": [
    "a = 12\n",
    "a"
   ]
  },
  {
   "cell_type": "code",
   "execution_count": 54,
   "metadata": {},
   "outputs": [
    {
     "data": {
      "text/plain": [
       "15"
      ]
     },
     "execution_count": 54,
     "metadata": {},
     "output_type": "execute_result"
    }
   ],
   "source": [
    "a += 3 # a = a+3\n",
    "a"
   ]
  },
  {
   "cell_type": "code",
   "execution_count": 55,
   "metadata": {},
   "outputs": [
    {
     "data": {
      "text/plain": [
       "10"
      ]
     },
     "execution_count": 55,
     "metadata": {},
     "output_type": "execute_result"
    }
   ],
   "source": [
    "b = 12\n",
    "b -= 2 # b = b-2\n",
    "b"
   ]
  },
  {
   "cell_type": "code",
   "execution_count": 56,
   "metadata": {},
   "outputs": [],
   "source": [
    "a =+3"
   ]
  },
  {
   "cell_type": "code",
   "execution_count": 57,
   "metadata": {},
   "outputs": [
    {
     "data": {
      "text/plain": [
       "3"
      ]
     },
     "execution_count": 57,
     "metadata": {},
     "output_type": "execute_result"
    }
   ],
   "source": [
    "a"
   ]
  },
  {
   "cell_type": "markdown",
   "metadata": {},
   "source": [
    "3. Comparison Operator"
   ]
  },
  {
   "cell_type": "code",
   "execution_count": 58,
   "metadata": {
    "scrolled": true
   },
   "outputs": [
    {
     "name": "stdout",
     "output_type": "stream",
     "text": [
      "False\n"
     ]
    }
   ],
   "source": [
    "n1,n2 = 5,3\n",
    "print(n1==n2)"
   ]
  },
  {
   "cell_type": "code",
   "execution_count": 63,
   "metadata": {},
   "outputs": [
    {
     "name": "stdout",
     "output_type": "stream",
     "text": [
      "True\n",
      "True\n",
      "False\n",
      "True\n",
      "False\n"
     ]
    }
   ],
   "source": [
    "print(n1!=n2)\n",
    "print(n1>n2)\n",
    "print(n1<n2)\n",
    "print(n1>=n2)\n",
    "print(n1<=n2)"
   ]
  },
  {
   "cell_type": "code",
   "execution_count": 67,
   "metadata": {},
   "outputs": [
    {
     "name": "stdout",
     "output_type": "stream",
     "text": [
      "True\n",
      "False\n",
      "False\n",
      "False\n",
      "True\n",
      "True\n"
     ]
    }
   ],
   "source": [
    "n1,n2 = 5,5\n",
    "print(n1==n2)\n",
    "print(n1!=n2)\n",
    "print(n1>n2)\n",
    "print(n1<n2)\n",
    "print(n1>=n2)\n",
    "print(n1<=n2)"
   ]
  },
  {
   "cell_type": "markdown",
   "metadata": {},
   "source": [
    "4. Logical Operators\n",
    "\n",
    "    and, or, not"
   ]
  },
  {
   "cell_type": "code",
   "execution_count": 64,
   "metadata": {},
   "outputs": [
    {
     "name": "stdout",
     "output_type": "stream",
     "text": [
      "True\n"
     ]
    }
   ],
   "source": [
    "a = 5\n",
    "print(a<6 and a>2)"
   ]
  },
  {
   "cell_type": "code",
   "execution_count": 72,
   "metadata": {},
   "outputs": [
    {
     "data": {
      "text/plain": [
       "True"
      ]
     },
     "execution_count": 72,
     "metadata": {},
     "output_type": "execute_result"
    }
   ],
   "source": [
    "(a<6 or a<2)"
   ]
  },
  {
   "cell_type": "code",
   "execution_count": 69,
   "metadata": {},
   "outputs": [
    {
     "data": {
      "text/plain": [
       "False"
      ]
     },
     "execution_count": 69,
     "metadata": {},
     "output_type": "execute_result"
    }
   ],
   "source": [
    "not(a<6 and a>2)"
   ]
  },
  {
   "cell_type": "markdown",
   "metadata": {},
   "source": [
    "5. Identity Operators\n",
    "    \n",
    "    is, is not"
   ]
  },
  {
   "cell_type": "code",
   "execution_count": 70,
   "metadata": {},
   "outputs": [
    {
     "name": "stdout",
     "output_type": "stream",
     "text": [
      "False\n"
     ]
    }
   ],
   "source": [
    "x,y = 5,3\n",
    "print(x is y)"
   ]
  },
  {
   "cell_type": "code",
   "execution_count": 71,
   "metadata": {},
   "outputs": [
    {
     "name": "stdout",
     "output_type": "stream",
     "text": [
      "True\n"
     ]
    }
   ],
   "source": [
    "print(x is not y)"
   ]
  },
  {
   "cell_type": "markdown",
   "metadata": {},
   "source": [
    "6. Membership Operators\n",
    "\n",
    "    in, not in"
   ]
  },
  {
   "cell_type": "code",
   "execution_count": 73,
   "metadata": {},
   "outputs": [
    {
     "name": "stdout",
     "output_type": "stream",
     "text": [
      "True\n"
     ]
    }
   ],
   "source": [
    "x = ['apple','banana','grapes']\n",
    "print('apple' in x)"
   ]
  },
  {
   "cell_type": "code",
   "execution_count": 74,
   "metadata": {},
   "outputs": [
    {
     "name": "stdout",
     "output_type": "stream",
     "text": [
      "False\n"
     ]
    }
   ],
   "source": [
    "print('apple' not in x)"
   ]
  },
  {
   "cell_type": "code",
   "execution_count": 90,
   "metadata": {},
   "outputs": [
    {
     "name": "stdout",
     "output_type": "stream",
     "text": [
      "False\n"
     ]
    }
   ],
   "source": [
    "x = ['apple','banana','grapes']\n",
    "y = ['apple','banana','grapes']\n",
    "print(x is y)"
   ]
  },
  {
   "cell_type": "code",
   "execution_count": 92,
   "metadata": {},
   "outputs": [
    {
     "name": "stdout",
     "output_type": "stream",
     "text": [
      "True\n",
      "False\n",
      "False\n",
      "False\n",
      "True\n",
      "False\n",
      "False\n",
      "False\n",
      "True\n"
     ]
    }
   ],
   "source": [
    "for i in x: # i='apple',i='banana'\n",
    "    for j in y: # j = 'apple', j='banana', j = 'grapes'\n",
    "        if i is j: # True\n",
    "            print('True')\n",
    "        else: # False,False\n",
    "            print('False')"
   ]
  },
  {
   "cell_type": "code",
   "execution_count": 80,
   "metadata": {},
   "outputs": [
    {
     "name": "stdout",
     "output_type": "stream",
     "text": [
      "apple\n",
      "banana\n",
      "grapes\n"
     ]
    }
   ],
   "source": [
    "for i in x:\n",
    "    print(i)"
   ]
  },
  {
   "cell_type": "markdown",
   "metadata": {},
   "source": [
    "7. Bitwise Operators\n",
    "\n",
    "    &, |, ^, >>, <<"
   ]
  },
  {
   "cell_type": "code",
   "execution_count": 81,
   "metadata": {},
   "outputs": [
    {
     "data": {
      "text/plain": [
       "1"
      ]
     },
     "execution_count": 81,
     "metadata": {},
     "output_type": "execute_result"
    }
   ],
   "source": [
    "5 & 3"
   ]
  },
  {
   "cell_type": "code",
   "execution_count": 82,
   "metadata": {},
   "outputs": [
    {
     "data": {
      "text/plain": [
       "7"
      ]
     },
     "execution_count": 82,
     "metadata": {},
     "output_type": "execute_result"
    }
   ],
   "source": [
    "5 | 3"
   ]
  },
  {
   "cell_type": "code",
   "execution_count": 83,
   "metadata": {},
   "outputs": [
    {
     "data": {
      "text/plain": [
       "6"
      ]
     },
     "execution_count": 83,
     "metadata": {},
     "output_type": "execute_result"
    }
   ],
   "source": [
    "5 ^3"
   ]
  }
 ],
 "metadata": {
  "kernelspec": {
   "display_name": "Python 3",
   "language": "python",
   "name": "python3"
  },
  "language_info": {
   "codemirror_mode": {
    "name": "ipython",
    "version": 3
   },
   "file_extension": ".py",
   "mimetype": "text/x-python",
   "name": "python",
   "nbconvert_exporter": "python",
   "pygments_lexer": "ipython3",
   "version": "3.8.3"
  }
 },
 "nbformat": 4,
 "nbformat_minor": 4
}
