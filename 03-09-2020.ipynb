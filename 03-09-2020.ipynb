{
 "cells": [
  {
   "cell_type": "code",
   "execution_count": 24,
   "metadata": {},
   "outputs": [],
   "source": [
    "c,d = 5,6"
   ]
  },
  {
   "cell_type": "code",
   "execution_count": 4,
   "metadata": {},
   "outputs": [
    {
     "ename": "SyntaxError",
     "evalue": "invalid syntax (<ipython-input-4-42c976bcced7>, line 1)",
     "output_type": "error",
     "traceback": [
      "\u001b[1;36m  File \u001b[1;32m\"<ipython-input-4-42c976bcced7>\"\u001b[1;36m, line \u001b[1;32m1\u001b[0m\n\u001b[1;33m    def add(4,3):\u001b[0m\n\u001b[1;37m            ^\u001b[0m\n\u001b[1;31mSyntaxError\u001b[0m\u001b[1;31m:\u001b[0m invalid syntax\n"
     ]
    }
   ],
   "source": [
    "def add(4,3):\n",
    "    print(4+3)\n",
    "\n",
    "add(4,3)"
   ]
  },
  {
   "cell_type": "code",
   "execution_count": 7,
   "metadata": {},
   "outputs": [
    {
     "name": "stdout",
     "output_type": "stream",
     "text": [
      "7\n"
     ]
    }
   ],
   "source": [
    "def add(a,b):\n",
    "    print(a+b)\n",
    "    \n",
    "add(4,3)"
   ]
  },
  {
   "cell_type": "markdown",
   "metadata": {},
   "source": [
    "1. Position Argument"
   ]
  },
  {
   "cell_type": "code",
   "execution_count": 9,
   "metadata": {},
   "outputs": [
    {
     "name": "stdout",
     "output_type": "stream",
     "text": [
      "apssdc\n",
      "8\n",
      "Name is: apssdc\n",
      "Age is: 8\n"
     ]
    }
   ],
   "source": [
    "def person(name,age):\n",
    "    print(\"Name is:\",name)\n",
    "    print(\"Age is:\",age)\n",
    "    \n",
    "name = input()\n",
    "age = int(input())\n",
    "person(name,age)"
   ]
  },
  {
   "cell_type": "code",
   "execution_count": 10,
   "metadata": {},
   "outputs": [
    {
     "name": "stdout",
     "output_type": "stream",
     "text": [
      "apssdc\n",
      "8\n",
      "Name is: 8\n",
      "Age is: apssdc\n"
     ]
    }
   ],
   "source": [
    "def person(name,age):\n",
    "    print(\"Name is:\",name)\n",
    "    print(\"Age is:\",age)\n",
    "    \n",
    "name = input()\n",
    "age = int(input())\n",
    "person(age,name)"
   ]
  },
  {
   "cell_type": "code",
   "execution_count": 11,
   "metadata": {},
   "outputs": [
    {
     "name": "stdout",
     "output_type": "stream",
     "text": [
      "apssdc\n",
      "7\n",
      "Name is: 7\n"
     ]
    },
    {
     "ename": "TypeError",
     "evalue": "unsupported operand type(s) for -: 'str' and 'int'",
     "output_type": "error",
     "traceback": [
      "\u001b[1;31m---------------------------------------------------------------------------\u001b[0m",
      "\u001b[1;31mTypeError\u001b[0m                                 Traceback (most recent call last)",
      "\u001b[1;32m<ipython-input-11-33e7e3d157c8>\u001b[0m in \u001b[0;36m<module>\u001b[1;34m\u001b[0m\n\u001b[0;32m      5\u001b[0m \u001b[0mname\u001b[0m \u001b[1;33m=\u001b[0m \u001b[0minput\u001b[0m\u001b[1;33m(\u001b[0m\u001b[1;33m)\u001b[0m\u001b[1;33m\u001b[0m\u001b[1;33m\u001b[0m\u001b[0m\n\u001b[0;32m      6\u001b[0m \u001b[0mage\u001b[0m \u001b[1;33m=\u001b[0m \u001b[0mint\u001b[0m\u001b[1;33m(\u001b[0m\u001b[0minput\u001b[0m\u001b[1;33m(\u001b[0m\u001b[1;33m)\u001b[0m\u001b[1;33m)\u001b[0m\u001b[1;33m\u001b[0m\u001b[1;33m\u001b[0m\u001b[0m\n\u001b[1;32m----> 7\u001b[1;33m \u001b[0mperson\u001b[0m\u001b[1;33m(\u001b[0m\u001b[0mage\u001b[0m\u001b[1;33m,\u001b[0m\u001b[0mname\u001b[0m\u001b[1;33m)\u001b[0m\u001b[1;33m\u001b[0m\u001b[1;33m\u001b[0m\u001b[0m\n\u001b[0m",
      "\u001b[1;32m<ipython-input-11-33e7e3d157c8>\u001b[0m in \u001b[0;36mperson\u001b[1;34m(name, age)\u001b[0m\n\u001b[0;32m      1\u001b[0m \u001b[1;32mdef\u001b[0m \u001b[0mperson\u001b[0m\u001b[1;33m(\u001b[0m\u001b[0mname\u001b[0m\u001b[1;33m,\u001b[0m\u001b[0mage\u001b[0m\u001b[1;33m)\u001b[0m\u001b[1;33m:\u001b[0m\u001b[1;33m\u001b[0m\u001b[1;33m\u001b[0m\u001b[0m\n\u001b[0;32m      2\u001b[0m     \u001b[0mprint\u001b[0m\u001b[1;33m(\u001b[0m\u001b[1;34m\"Name is:\"\u001b[0m\u001b[1;33m,\u001b[0m\u001b[0mname\u001b[0m\u001b[1;33m)\u001b[0m\u001b[1;33m\u001b[0m\u001b[1;33m\u001b[0m\u001b[0m\n\u001b[1;32m----> 3\u001b[1;33m     \u001b[0mprint\u001b[0m\u001b[1;33m(\u001b[0m\u001b[1;34m\"Age is:\"\u001b[0m\u001b[1;33m,\u001b[0m\u001b[0mage\u001b[0m\u001b[1;33m-\u001b[0m\u001b[1;36m1\u001b[0m\u001b[1;33m)\u001b[0m\u001b[1;33m\u001b[0m\u001b[1;33m\u001b[0m\u001b[0m\n\u001b[0m\u001b[0;32m      4\u001b[0m \u001b[1;33m\u001b[0m\u001b[0m\n\u001b[0;32m      5\u001b[0m \u001b[0mname\u001b[0m \u001b[1;33m=\u001b[0m \u001b[0minput\u001b[0m\u001b[1;33m(\u001b[0m\u001b[1;33m)\u001b[0m\u001b[1;33m\u001b[0m\u001b[1;33m\u001b[0m\u001b[0m\n",
      "\u001b[1;31mTypeError\u001b[0m: unsupported operand type(s) for -: 'str' and 'int'"
     ]
    }
   ],
   "source": [
    "def person(name,age):\n",
    "    print(\"Name is:\",name)\n",
    "    print(\"Age is:\",age-1)\n",
    "    \n",
    "name = input()\n",
    "age = int(input())\n",
    "person(age,name)"
   ]
  },
  {
   "cell_type": "markdown",
   "metadata": {},
   "source": [
    "2. Keyword Argument"
   ]
  },
  {
   "cell_type": "code",
   "execution_count": 12,
   "metadata": {},
   "outputs": [
    {
     "name": "stdout",
     "output_type": "stream",
     "text": [
      "Name is: keerthi\n",
      "Age is: 21\n"
     ]
    }
   ],
   "source": [
    "def person(name,age):\n",
    "    print(\"Name is:\",name)\n",
    "    print(\"Age is:\",age)\n",
    "    \n",
    "person(age=21,name='keerthi')"
   ]
  },
  {
   "cell_type": "code",
   "execution_count": 14,
   "metadata": {},
   "outputs": [
    {
     "name": "stdout",
     "output_type": "stream",
     "text": [
      "keerthi\n",
      "21\n",
      "Name is: keerthi\n",
      "Age is: 21\n"
     ]
    }
   ],
   "source": [
    "def person(name,age):\n",
    "    print(\"Name is:\",name)\n",
    "    print(\"Age is:\",age)\n",
    "    \n",
    "n = input()\n",
    "a = int(input())\n",
    "    \n",
    "person(age=a,name=n)"
   ]
  },
  {
   "cell_type": "code",
   "execution_count": 15,
   "metadata": {},
   "outputs": [
    {
     "name": "stdout",
     "output_type": "stream",
     "text": [
      "keerthi\n",
      "21\n",
      "Name is: keerthi\n",
      "Age is: 21\n"
     ]
    }
   ],
   "source": [
    "def person(name,age):\n",
    "    print(\"Name is:\",name)\n",
    "    print(\"Age is:\",age)\n",
    "    \n",
    "name = input()\n",
    "age = int(input())\n",
    "    \n",
    "person(age=age,name=name)"
   ]
  },
  {
   "cell_type": "code",
   "execution_count": 13,
   "metadata": {},
   "outputs": [
    {
     "name": "stdout",
     "output_type": "stream",
     "text": [
      "Name is: keerthi\n",
      "Age is: 16\n"
     ]
    }
   ],
   "source": [
    "def person(name,age):\n",
    "    print(\"Name is:\",name)\n",
    "    print(\"Age is:\",age-5)\n",
    "    \n",
    "person(age=21,name='keerthi')"
   ]
  },
  {
   "cell_type": "markdown",
   "metadata": {},
   "source": [
    "3. Default Argument"
   ]
  },
  {
   "cell_type": "code",
   "execution_count": 16,
   "metadata": {},
   "outputs": [
    {
     "name": "stdout",
     "output_type": "stream",
     "text": [
      "keerthi\n",
      "14\n",
      "Name is: keerthi\n",
      "Age is: 20\n"
     ]
    }
   ],
   "source": [
    "def person(name,age=20):\n",
    "    print(\"Name is:\",name)\n",
    "    print(\"Age is:\",age)\n",
    "    \n",
    "n=input()\n",
    "a=int(input())\n",
    "person(n)"
   ]
  },
  {
   "cell_type": "code",
   "execution_count": 17,
   "metadata": {},
   "outputs": [
    {
     "name": "stdout",
     "output_type": "stream",
     "text": [
      "keerthi\n",
      "56\n",
      "Name is: keerthi\n",
      "Age is: 56\n"
     ]
    }
   ],
   "source": [
    "def person(name,age=20):\n",
    "    print(\"Name is:\",name)\n",
    "    print(\"Age is:\",age)\n",
    "    \n",
    "n=input()\n",
    "a=int(input())\n",
    "person(n,a)"
   ]
  },
  {
   "cell_type": "code",
   "execution_count": 19,
   "metadata": {
    "scrolled": true
   },
   "outputs": [
    {
     "name": "stdout",
     "output_type": "stream",
     "text": [
      "keerthi\n",
      "34\n",
      "Name is: keerthi\n",
      "Age is: 20\n"
     ]
    }
   ],
   "source": [
    "def person(name,age=20):\n",
    "    print(\"Name is:\",name)\n",
    "    print(\"Age is:\",age)\n",
    "    \n",
    "n=input()\n",
    "a=int(input())\n",
    "person(n)"
   ]
  },
  {
   "cell_type": "code",
   "execution_count": 23,
   "metadata": {},
   "outputs": [
    {
     "name": "stdout",
     "output_type": "stream",
     "text": [
      "keerthi\n",
      "12\n",
      "223\n",
      "Name is: keerthi\n",
      "Age is: 12\n",
      "Roll No: 223\n"
     ]
    }
   ],
   "source": [
    "def person(name,age,rollno=221):\n",
    "    print(\"Name is:\",name)\n",
    "    print(\"Age is:\",age)\n",
    "    print(\"Roll No:\",rollno)\n",
    "    \n",
    "n=input()\n",
    "a=int(input())\n",
    "r = int(input())\n",
    "person(n,a,r)"
   ]
  },
  {
   "cell_type": "markdown",
   "metadata": {},
   "source": [
    "4. Variable Length Argument"
   ]
  },
  {
   "cell_type": "code",
   "execution_count": 28,
   "metadata": {},
   "outputs": [
    {
     "ename": "TypeError",
     "evalue": "add() takes 2 positional arguments but 5 were given",
     "output_type": "error",
     "traceback": [
      "\u001b[1;31m---------------------------------------------------------------------------\u001b[0m",
      "\u001b[1;31mTypeError\u001b[0m                                 Traceback (most recent call last)",
      "\u001b[1;32m<ipython-input-28-2b9c2e762384>\u001b[0m in \u001b[0;36m<module>\u001b[1;34m\u001b[0m\n\u001b[0;32m      3\u001b[0m     \u001b[0mprint\u001b[0m\u001b[1;33m(\u001b[0m\u001b[0mc\u001b[0m\u001b[1;33m)\u001b[0m\u001b[1;33m\u001b[0m\u001b[1;33m\u001b[0m\u001b[0m\n\u001b[0;32m      4\u001b[0m \u001b[1;33m\u001b[0m\u001b[0m\n\u001b[1;32m----> 5\u001b[1;33m \u001b[0madd\u001b[0m\u001b[1;33m(\u001b[0m\u001b[1;36m1\u001b[0m\u001b[1;33m,\u001b[0m\u001b[1;36m2\u001b[0m\u001b[1;33m,\u001b[0m\u001b[1;36m3\u001b[0m\u001b[1;33m,\u001b[0m\u001b[1;36m4\u001b[0m\u001b[1;33m,\u001b[0m\u001b[1;36m5\u001b[0m\u001b[1;33m)\u001b[0m\u001b[1;33m\u001b[0m\u001b[1;33m\u001b[0m\u001b[0m\n\u001b[0m",
      "\u001b[1;31mTypeError\u001b[0m: add() takes 2 positional arguments but 5 were given"
     ]
    }
   ],
   "source": [
    "def add(a,b):\n",
    "    c = a+b\n",
    "    print(c)\n",
    "    \n",
    "add(1,2,3,4,5)"
   ]
  },
  {
   "cell_type": "code",
   "execution_count": 29,
   "metadata": {},
   "outputs": [
    {
     "name": "stdout",
     "output_type": "stream",
     "text": [
      "1\n",
      "(2, 3, 4, 5)\n"
     ]
    }
   ],
   "source": [
    "def add(a,*b):\n",
    "    #c = a+b\n",
    "    print(a)\n",
    "    print(b)\n",
    "    \n",
    "add(1,2,3,4,5)"
   ]
  },
  {
   "cell_type": "code",
   "execution_count": 35,
   "metadata": {},
   "outputs": [
    {
     "name": "stdout",
     "output_type": "stream",
     "text": [
      "(1, 2, 3, 4, 5)\n"
     ]
    }
   ],
   "source": [
    "def add(*a):\n",
    "    #c = a+b\n",
    "    print(a)\n",
    "    #print(b)\n",
    "    \n",
    "add(1,2,3,4,5)"
   ]
  },
  {
   "cell_type": "code",
   "execution_count": 36,
   "metadata": {},
   "outputs": [
    {
     "name": "stdout",
     "output_type": "stream",
     "text": [
      "1\n",
      "2\n",
      "(3, 4, 5)\n"
     ]
    }
   ],
   "source": [
    "def add(a,b,*c):\n",
    "    #c = a+b\n",
    "    print(a)\n",
    "    print(b)\n",
    "    print(c)\n",
    "    \n",
    "add(1,2,3,4,5)"
   ]
  },
  {
   "cell_type": "code",
   "execution_count": null,
   "metadata": {},
   "outputs": [],
   "source": [
    "def add(a):\n",
    "    #c = a+b\n",
    "    print(a)\n",
    "    print(b)\n",
    "    \n",
    "add(1,2,3,4,5)"
   ]
  },
  {
   "cell_type": "code",
   "execution_count": 37,
   "metadata": {},
   "outputs": [
    {
     "name": "stdout",
     "output_type": "stream",
     "text": [
      "15\n"
     ]
    }
   ],
   "source": [
    "def add(a,*b):\n",
    "    s = a\n",
    "    for i in b:\n",
    "        s += i\n",
    "    print(s)\n",
    "add(1,2,3,4,5)"
   ]
  },
  {
   "cell_type": "markdown",
   "metadata": {},
   "source": [
    "### Tasks\n",
    "1. Write a program to check whether the given number is prime or not using functions\n",
    "2. Write a program to print with in range of prime numbers using functions\n",
    "3. Wrire a program to print whether the given year is leap or not using functions"
   ]
  },
  {
   "cell_type": "markdown",
   "metadata": {},
   "source": [
    "### Packages & Modules\n",
    "- What is package?\n",
    "    * Package is a collection of python modules(Numpy, Pandas, Matplotlib etc..)\n",
    "- What is Module?\n",
    "    * Module is a collection of functions or methods(math, datetime,ramdome etc...)\n",
    "    * Any python file is a module\n",
    "- what is Function|Method?\n",
    "    * Collection of statements which can be reusable"
   ]
  },
  {
   "cell_type": "code",
   "execution_count": 38,
   "metadata": {},
   "outputs": [
    {
     "name": "stdout",
     "output_type": "stream",
     "text": [
      "\n",
      "Please wait a moment while I gather a list of all available modules...\n",
      "\n"
     ]
    },
    {
     "name": "stderr",
     "output_type": "stream",
     "text": [
      "C:\\ProgramData\\Anaconda3\\lib\\site-packages\\IPython\\kernel\\__init__.py:12: ShimWarning: The `IPython.kernel` package has been deprecated since IPython 4.0.You should import from ipykernel or jupyter_client instead.\n",
      "  warn(\"The `IPython.kernel` package has been deprecated since IPython 4.0.\"\n",
      "C:\\ProgramData\\Anaconda3\\lib\\site-packages\\nltk\\twitter\\__init__.py:21: UserWarning: The twython library has not been installed. Some functionality from the twitter package will not be available.\n",
      "  warnings.warn(\n",
      "C:\\ProgramData\\Anaconda3\\lib\\site-packages\\setuptools\\distutils_patch.py:25: UserWarning: Distutils was imported before Setuptools. This usage is discouraged and may exhibit undesirable behaviors or errors. Please use Setuptools' objects directly or at least import Setuptools first.\n",
      "  warnings.warn(\n",
      "C:\\ProgramData\\Anaconda3\\lib\\site-packages\\skimage\\viewer\\utils\\__init__.py:1: UserWarning: Recommended matplotlib backend is `Agg` for full skimage.viewer functionality.\n",
      "  from .core import *\n",
      "C:\\ProgramData\\Anaconda3\\lib\\site-packages\\qtawesome\\iconic_font.py:312: UserWarning: You need to have a running QApplication to use QtAwesome!\n",
      "  warnings.warn(\"You need to have a running \"\n",
      "C:\\ProgramData\\Anaconda3\\lib\\pkgutil.py:107: VisibleDeprecationWarning: zmq.eventloop.minitornado is deprecated in pyzmq 14.0 and will be removed.\n",
      "    Install tornado itself to use zmq with the tornado IOLoop.\n",
      "    \n",
      "  yield from walk_packages(path, info.name+'.', onerror)\n"
     ]
    },
    {
     "name": "stdout",
     "output_type": "stream",
     "text": [
      "Cython              brain_scipy_signal  marshal             socketserver\n",
      "IPython             brain_six           math                socks\n",
      "OpenSSL             brain_ssl           matplotlib          sockshandler\n",
      "PIL                 brain_subprocess    mccabe              sortedcollections\n",
      "PyQt5               brain_threading     menuinst            sortedcontainers\n",
      "__future__          brain_typing        mimetypes           soupsieve\n",
      "_abc                brain_uuid          mistune             sphinx\n",
      "_ast                brotli              mkl                 sphinxcontrib\n",
      "_asyncio            bs4                 mkl_fft             spyder\n",
      "_bisect             builtins            mkl_random          spyder_kernels\n",
      "_blake2             bz2                 mmap                sqlalchemy\n",
      "_bootlocale         cProfile            mmapfile            sqlite3\n",
      "_bz2                calendar            mmsystem            sre_compile\n",
      "_cffi_backend       certifi             mock                sre_constants\n",
      "_codecs             cffi                modulefinder        sre_parse\n",
      "_codecs_cn          cgi                 more_itertools      ssl\n",
      "_codecs_hk          cgitb               mpmath              sspi\n",
      "_codecs_iso2022     chardet             msgpack             sspicon\n",
      "_codecs_jp          chunk               msilib              stat\n",
      "_codecs_kr          click               msvcrt              statistics\n",
      "_codecs_tw          cloudpickle         multipledispatch    statsmodels\n",
      "_collections        clyent              multiprocessing     storemagic\n",
      "_collections_abc    cmath               nacl                string\n",
      "_compat_pickle      cmd                 navigator_updater   stringprep\n",
      "_compression        code                nbconvert           struct\n",
      "_contextvars        codecs              nbformat            subprocess\n",
      "_csv                codeop              netbios             sunau\n",
      "_ctypes             collections         netrc               symbol\n",
      "_ctypes_test        colorama            networkx            sympy\n",
      "_datetime           colorsys            nltk                sympyprinting\n",
      "_decimal            commctrl            nntplib             symtable\n",
      "_dummy_thread       compileall          nose                sys\n",
      "_elementtree        comtypes            notebook            sysconfig\n",
      "_functools          concurrent          nt                  tables\n",
      "_hashlib            conda               ntpath              tabnanny\n",
      "_heapq              conda_build         ntsecuritycon       tarfile\n",
      "_imp                conda_env           nturl2path          tblib\n",
      "_io                 conda_package_handling numba               telnetlib\n",
      "_json               conda_verify        numbers             tempfile\n",
      "_locale             configparser        numexpr             terminado\n",
      "_lsprof             contextlib          numpy               test\n",
      "_lzma               contextlib2         numpydoc            test_data\n",
      "_markupbase         contextvars         odbc                test_pycosat\n",
      "_md5                copy                olefile             testpath\n",
      "_msi                copyreg             opcode              tests\n",
      "_multibytecodec     crypt               openpyxl            textwrap\n",
      "_multiprocessing    cryptography        operator            this\n",
      "_nsis               csv                 optparse            threading\n",
      "_opcode             ctypes              os                  threadpoolctl\n",
      "_operator           curl                packaging           time\n",
      "_osx_support        curses              pandas              timeit\n",
      "_overlapped         cwp                 pandocfilters       timer\n",
      "_pickle             cycler              paramiko            tkinter\n",
      "_py_abc             cython              parser              tlz\n",
      "_pydecimal          cythonmagic         parso               token\n",
      "_pyio               cytoolz             partd               tokenize\n",
      "_pyrsistent_version dask                past                toml\n",
      "_pytest             dataclasses         path                toolz\n",
      "_queue              datetime            pathlib             tornado\n",
      "_random             dateutil            pathlib2            tqdm\n",
      "_sha1               dbi                 pathtools           trace\n",
      "_sha256             dbm                 patsy               traceback\n",
      "_sha3               dde                 pdb                 tracemalloc\n",
      "_sha512             decimal             pep8                traitlets\n",
      "_signal             decorator           perfmon             tty\n",
      "_sitebuiltins       defusedxml          pexpect             turtle\n",
      "_socket             diff_match_patch    pickle              turtledemo\n",
      "_sqlite3            difflib             pickleshare         types\n",
      "_sre                dis                 pickletools         typing\n",
      "_ssl                distributed         pip                 typing_extensions\n",
      "_stat               distutils           pipes               ujson\n",
      "_statistics         doctest             pkg_resources       unicodecsv\n",
      "_string             docutils            pkginfo             unicodedata\n",
      "_strptime           dummy_threading     pkgutil             unittest\n",
      "_struct             easy_install        platform            urllib\n",
      "_symtable           email               plistlib            urllib3\n",
      "_system_path        encodings           pluggy              uu\n",
      "_testbuffer         ensurepip           ply                 uuid\n",
      "_testcapi           entrypoints         poplib              venv\n",
      "_testconsole        enum                posixpath           warnings\n",
      "_testimportmultiple errno               pprint              watchdog\n",
      "_testinternalcapi   et_xmlfile          profile             wave\n",
      "_testmultiphase     fastcache           prometheus_client   wcwidth\n",
      "_thread             faulthandler        prompt_toolkit      weakref\n",
      "_threading_local    filecmp             pstats              webbrowser\n",
      "_tkinter            fileinput           psutil              webencodings\n",
      "_tracemalloc        filelock            pty                 werkzeug\n",
      "_warnings           flake8              pvectorc            wheel\n",
      "_weakref            flask               py                  widgetsnbextension\n",
      "_weakrefset         fnmatch             py_compile          win2kras\n",
      "_win32sysloader     formatter           pyclbr              win32api\n",
      "_winapi             fractions           pycodestyle         win32clipboard\n",
      "_winxptheme         fsspec              pycosat             win32com\n",
      "_xxsubinterpreters  ftplib              pycparser           win32con\n",
      "_yaml               functools           pycurl              win32console\n",
      "abc                 future              pydoc               win32cred\n",
      "adodbapi            gc                  pydoc_data          win32crypt\n",
      "afxres              genericpath         pydocstyle          win32cryptcon\n",
      "aifc                getopt              pyexpat             win32ctypes\n",
      "alabaster           getpass             pyflakes            win32event\n",
      "anaconda_navigator  gettext             pygments            win32evtlog\n",
      "anaconda_project    gevent              pylab               win32evtlogutil\n",
      "antigravity         glob                pylint              win32file\n",
      "argh                glob2               pyls                win32gui\n",
      "argparse            gmpy2               pyls_jsonrpc        win32gui_struct\n",
      "array               greenlet            pyodbc              win32help\n",
      "asn1crypto          gzip                pyparsing           win32inet\n",
      "ast                 h5py                pyreadline          win32inetcon\n",
      "astroid             hashlib             pyrsistent          win32job\n",
      "astropy             heapdict            pytest              win32lz\n",
      "asynchat            heapq               pythoncom           win32net\n",
      "asyncio             hmac                pytz                win32netcon\n",
      "asyncore            html                pywin               win32pdh\n",
      "atexit              html5lib            pywin32_bootstrap   win32pdhquery\n",
      "atomicwrites        http                pywin32_testutil    win32pdhutil\n",
      "attr                idlelib             pywintypes          win32pipe\n",
      "audioop             idna                pywt                win32print\n"
     ]
    },
    {
     "name": "stdout",
     "output_type": "stream",
     "text": [
      "autopep8            imageio             pyximport           win32process\n",
      "autoreload          imagesize           qdarkstyle          win32profile\n",
      "babel               imaplib             qtawesome           win32ras\n",
      "backcall            imghdr              qtconsole           win32rcparser\n",
      "backports           imp                 qtpy                win32security\n",
      "base64              importlib           queue               win32service\n",
      "bcrypt              importlib_metadata  quopri              win32serviceutil\n",
      "bdb                 inspect             random              win32timezone\n",
      "binascii            intervaltree        rasutil             win32trace\n",
      "binhex              io                  re                  win32traceutil\n",
      "binstar_client      ipaddress           readline            win32transaction\n",
      "bisect              ipykernel           regcheck            win32ts\n",
      "bitarray            ipykernel_launcher  regex               win32ui\n",
      "bkcharts            ipython_genutils    regutil             win32uiole\n",
      "bleach              ipywidgets          reprlib             win32verstamp\n",
      "bokeh               isapi               requests            win32wnet\n",
      "boto                isort               rlcompleter         win_inet_pton\n",
      "bottleneck          isympy              rmagic              win_unicode_console\n",
      "brain_argparse      itertools           rope                wincertstore\n",
      "brain_attrs         itsdangerous        rtree               winerror\n",
      "brain_boto3         jdcal               ruamel_yaml         winioctlcon\n",
      "brain_builtin_inference jedi                run                 winnt\n",
      "brain_collections   jinja2              runpy               winperf\n",
      "brain_crypt         joblib              sched               winpty\n",
      "brain_curses        json                scipy               winreg\n",
      "brain_dataclasses   json5               scripts             winsound\n",
      "brain_dateutil      jsonschema          seaborn             winxpgui\n",
      "brain_fstrings      jupyter             secrets             winxptheme\n",
      "brain_functools     jupyter_client      select              wrapt\n",
      "brain_gi            jupyter_console     selectors           wsgiref\n",
      "brain_hashlib       jupyter_core        send2trash          xdrlib\n",
      "brain_http          jupyterlab          servicemanager      xlrd\n",
      "brain_io            jupyterlab_server   setuptools          xlsxwriter\n",
      "brain_mechanize     keyring             shelve              xlwings\n",
      "brain_multiprocessing keyword             shlex               xlwt\n",
      "brain_namedtuple_enum kiwisolver          shutil              xml\n",
      "brain_nose          lazy_object_proxy   signal              xmlrpc\n",
      "brain_numpy_core_fromnumeric lib2to3             simplegeneric       xmltodict\n",
      "brain_numpy_core_function_base libarchive          singledispatch      xxsubtype\n",
      "brain_numpy_core_multiarray libfuturize         singledispatch_helpers yaml\n",
      "brain_numpy_core_numeric libpasteurize       sip                 yapf\n",
      "brain_numpy_core_numerictypes lief                sipconfig           yapftests\n",
      "brain_numpy_core_umath linecache           sipdistutils        zict\n",
      "brain_numpy_ndarray llvmlite            site                zipapp\n",
      "brain_numpy_random_mtrand locale              six                 zipfile\n",
      "brain_numpy_utils   locket              skimage             zipimport\n",
      "brain_pkg_resources logging             sklearn             zipp\n",
      "brain_pytest        lxml                smtpd               zlib\n",
      "brain_qt            lzma                smtplib             zmq\n",
      "brain_random        mailbox             sndhdr              zope\n",
      "brain_re            mailcap             snowballstemmer     \n",
      "brain_responses     markupsafe          socket              \n",
      "\n",
      "Enter any module name to get more help.  Or, type \"modules spam\" to search\n",
      "for modules whose name or summary contain the string \"spam\".\n",
      "\n"
     ]
    }
   ],
   "source": [
    "# Built in python modules\n",
    "help('modules')"
   ]
  },
  {
   "cell_type": "code",
   "execution_count": 39,
   "metadata": {},
   "outputs": [],
   "source": [
    "# math ---> Fundamental Mathematical Operations\n",
    "import math"
   ]
  },
  {
   "cell_type": "code",
   "execution_count": 40,
   "metadata": {},
   "outputs": [
    {
     "name": "stdout",
     "output_type": "stream",
     "text": [
      "['__doc__', '__loader__', '__name__', '__package__', '__spec__', 'acos', 'acosh', 'asin', 'asinh', 'atan', 'atan2', 'atanh', 'ceil', 'comb', 'copysign', 'cos', 'cosh', 'degrees', 'dist', 'e', 'erf', 'erfc', 'exp', 'expm1', 'fabs', 'factorial', 'floor', 'fmod', 'frexp', 'fsum', 'gamma', 'gcd', 'hypot', 'inf', 'isclose', 'isfinite', 'isinf', 'isnan', 'isqrt', 'ldexp', 'lgamma', 'log', 'log10', 'log1p', 'log2', 'modf', 'nan', 'perm', 'pi', 'pow', 'prod', 'radians', 'remainder', 'sin', 'sinh', 'sqrt', 'tan', 'tanh', 'tau', 'trunc']\n"
     ]
    }
   ],
   "source": [
    "print(dir(math))"
   ]
  },
  {
   "cell_type": "code",
   "execution_count": 41,
   "metadata": {},
   "outputs": [
    {
     "name": "stdout",
     "output_type": "stream",
     "text": [
      "3.141592653589793\n"
     ]
    }
   ],
   "source": [
    "print(math.pi)"
   ]
  },
  {
   "cell_type": "code",
   "execution_count": 46,
   "metadata": {},
   "outputs": [
    {
     "name": "stdout",
     "output_type": "stream",
     "text": [
      "13\n",
      "12\n",
      "0.8509035245341184\n",
      "12\n"
     ]
    }
   ],
   "source": [
    "print(math.ceil(12.5))\n",
    "print(math.floor(12.5))\n",
    "print(math.sin(45))\n",
    "s = math.sqrt(144)\n",
    "print(int(s))"
   ]
  },
  {
   "cell_type": "code",
   "execution_count": 47,
   "metadata": {},
   "outputs": [],
   "source": [
    "import random"
   ]
  },
  {
   "cell_type": "code",
   "execution_count": 48,
   "metadata": {},
   "outputs": [
    {
     "name": "stdout",
     "output_type": "stream",
     "text": [
      "['BPF', 'LOG4', 'NV_MAGICCONST', 'RECIP_BPF', 'Random', 'SG_MAGICCONST', 'SystemRandom', 'TWOPI', '_Sequence', '_Set', '__all__', '__builtins__', '__cached__', '__doc__', '__file__', '__loader__', '__name__', '__package__', '__spec__', '_accumulate', '_acos', '_bisect', '_ceil', '_cos', '_e', '_exp', '_inst', '_log', '_os', '_pi', '_random', '_repeat', '_sha512', '_sin', '_sqrt', '_test', '_test_generator', '_urandom', '_warn', 'betavariate', 'choice', 'choices', 'expovariate', 'gammavariate', 'gauss', 'getrandbits', 'getstate', 'lognormvariate', 'normalvariate', 'paretovariate', 'randint', 'random', 'randrange', 'sample', 'seed', 'setstate', 'shuffle', 'triangular', 'uniform', 'vonmisesvariate', 'weibullvariate']\n"
     ]
    }
   ],
   "source": [
    "print(dir(random))"
   ]
  },
  {
   "cell_type": "code",
   "execution_count": 50,
   "metadata": {},
   "outputs": [
    {
     "data": {
      "text/plain": [
       "17"
      ]
     },
     "execution_count": 50,
     "metadata": {},
     "output_type": "execute_result"
    }
   ],
   "source": [
    "random.randint(10,20)"
   ]
  },
  {
   "cell_type": "raw",
   "metadata": {},
   "source": [
    "print(random.randint())"
   ]
  },
  {
   "cell_type": "code",
   "execution_count": 53,
   "metadata": {},
   "outputs": [
    {
     "data": {
      "text/plain": [
       "0.31435758031488037"
      ]
     },
     "execution_count": 53,
     "metadata": {},
     "output_type": "execute_result"
    }
   ],
   "source": [
    "random.random()"
   ]
  },
  {
   "cell_type": "markdown",
   "metadata": {},
   "source": [
    "## User Defined Modules"
   ]
  },
  {
   "cell_type": "code",
   "execution_count": 55,
   "metadata": {},
   "outputs": [
    {
     "name": "stdout",
     "output_type": "stream",
     "text": [
      "15 is not even\n"
     ]
    }
   ],
   "source": [
    "from Mypackage import mymodule\n",
    "mymodule.iseven(15)"
   ]
  },
  {
   "cell_type": "code",
   "execution_count": 56,
   "metadata": {},
   "outputs": [
    {
     "name": "stdout",
     "output_type": "stream",
     "text": [
      "15 is odd\n"
     ]
    }
   ],
   "source": [
    "mymodule.isodd(15)"
   ]
  },
  {
   "cell_type": "code",
   "execution_count": 57,
   "metadata": {},
   "outputs": [],
   "source": [
    "from Mypackage.mymodule import iseven"
   ]
  },
  {
   "cell_type": "code",
   "execution_count": 58,
   "metadata": {},
   "outputs": [
    {
     "name": "stdout",
     "output_type": "stream",
     "text": [
      "12 is even\n"
     ]
    }
   ],
   "source": [
    "iseven(12)"
   ]
  },
  {
   "cell_type": "code",
   "execution_count": null,
   "metadata": {},
   "outputs": [],
   "source": []
  }
 ],
 "metadata": {
  "kernelspec": {
   "display_name": "Python 3",
   "language": "python",
   "name": "python3"
  },
  "language_info": {
   "codemirror_mode": {
    "name": "ipython",
    "version": 3
   },
   "file_extension": ".py",
   "mimetype": "text/x-python",
   "name": "python",
   "nbconvert_exporter": "python",
   "pygments_lexer": "ipython3",
   "version": "3.8.3"
  }
 },
 "nbformat": 4,
 "nbformat_minor": 4
}
