{
 "cells": [
  {
   "cell_type": "markdown",
   "metadata": {},
   "source": [
    "# files\n",
    "* collection of data stored in a local system is nothing file\n",
    "\n",
    "##### file operations\n",
    "1. create --> will create one input\n",
    "1. read --> read the data from file\n",
    "2. write -->\n",
    "    1. it will override the data which is in given input file\n",
    "    2. if the input is not existed it will create the file\n",
    "3. append\n",
    "    * it will add the data to the given input file"
   ]
  },
  {
   "cell_type": "markdown",
   "metadata": {},
   "source": [
    "* we will access files in python by using open function \n",
    "--> open('arg1','arg2')\n",
    "1. arg1 --> file name\n",
    "2. arg2 ---> mode\n",
    "#### modes:\n",
    "1. read ---> 'r'\n",
    "2. write --> 'w'\n",
    "3. append --> 'a'\n",
    "4. create ---> 'x'"
   ]
  },
  {
   "cell_type": "code",
   "execution_count": 1,
   "metadata": {},
   "outputs": [],
   "source": [
    "file = open('data.txt','x')\n",
    "file.close()"
   ]
  },
  {
   "cell_type": "code",
   "execution_count": 2,
   "metadata": {},
   "outputs": [
    {
     "name": "stdout",
     "output_type": "stream",
     "text": [
      "python programming \n",
      "online python\n",
      "apssdc\n"
     ]
    }
   ],
   "source": [
    "f = open('data.txt','r')\n",
    "#data = f.read()\n",
    "print(f.read())\n",
    "f.close()\n"
   ]
  },
  {
   "cell_type": "code",
   "execution_count": 3,
   "metadata": {},
   "outputs": [
    {
     "ename": "FileNotFoundError",
     "evalue": "[Errno 2] No such file or directory: 'data1.txt'",
     "output_type": "error",
     "traceback": [
      "\u001b[1;31m---------------------------------------------------------------------------\u001b[0m",
      "\u001b[1;31mFileNotFoundError\u001b[0m                         Traceback (most recent call last)",
      "\u001b[1;32m<ipython-input-3-e6f170284873>\u001b[0m in \u001b[0;36m<module>\u001b[1;34m\u001b[0m\n\u001b[1;32m----> 1\u001b[1;33m \u001b[0mf\u001b[0m \u001b[1;33m=\u001b[0m \u001b[0mopen\u001b[0m\u001b[1;33m(\u001b[0m\u001b[1;34m'data1.txt'\u001b[0m\u001b[1;33m,\u001b[0m\u001b[1;34m'r'\u001b[0m\u001b[1;33m)\u001b[0m\u001b[1;33m\u001b[0m\u001b[1;33m\u001b[0m\u001b[0m\n\u001b[0m\u001b[0;32m      2\u001b[0m \u001b[1;31m#data = f.read()\u001b[0m\u001b[1;33m\u001b[0m\u001b[1;33m\u001b[0m\u001b[1;33m\u001b[0m\u001b[0m\n\u001b[0;32m      3\u001b[0m \u001b[0mprint\u001b[0m\u001b[1;33m(\u001b[0m\u001b[0mf\u001b[0m\u001b[1;33m.\u001b[0m\u001b[0mread\u001b[0m\u001b[1;33m(\u001b[0m\u001b[1;33m)\u001b[0m\u001b[1;33m)\u001b[0m\u001b[1;33m\u001b[0m\u001b[1;33m\u001b[0m\u001b[0m\n\u001b[0;32m      4\u001b[0m \u001b[0mf\u001b[0m\u001b[1;33m.\u001b[0m\u001b[0mclose\u001b[0m\u001b[1;33m(\u001b[0m\u001b[1;33m)\u001b[0m\u001b[1;33m\u001b[0m\u001b[1;33m\u001b[0m\u001b[0m\n",
      "\u001b[1;31mFileNotFoundError\u001b[0m: [Errno 2] No such file or directory: 'data1.txt'"
     ]
    }
   ],
   "source": [
    "f = open('data1.txt','r')\n",
    "#data = f.read()\n",
    "print(f.read())\n",
    "f.close()"
   ]
  },
  {
   "cell_type": "code",
   "execution_count": 5,
   "metadata": {},
   "outputs": [
    {
     "name": "stdout",
     "output_type": "stream",
     "text": [
      "python programming \n",
      "online python\n",
      "apssdc\n",
      "\n",
      "@archana\n"
     ]
    }
   ],
   "source": [
    "f1 = open('data.txt','r')\n",
    "print(f1.read())\n",
    "f1.close()"
   ]
  },
  {
   "cell_type": "code",
   "execution_count": 7,
   "metadata": {},
   "outputs": [
    {
     "name": "stdout",
     "output_type": "stream",
     "text": [
      "python programming \n",
      "\n",
      "online python\n",
      "\n"
     ]
    }
   ],
   "source": [
    "f1 = open('data.txt','r')\n",
    "print(f1.readline())\n",
    "print(f1.readline())\n",
    "f1.close()"
   ]
  },
  {
   "cell_type": "code",
   "execution_count": 8,
   "metadata": {},
   "outputs": [
    {
     "name": "stdout",
     "output_type": "stream",
     "text": [
      "python pro\n"
     ]
    }
   ],
   "source": [
    "f1 = open('data.txt','r')\n",
    "print(f1.read(10))\n",
    "f1.close()"
   ]
  },
  {
   "cell_type": "code",
   "execution_count": 10,
   "metadata": {},
   "outputs": [],
   "source": [
    "#write\n",
    "# 1. it override data from the inputfile\n",
    "# 2. if the inp file not existed it will create\n",
    "w = open('data.txt','w')\n",
    "w.write('data deleted')\n",
    "w.close()"
   ]
  },
  {
   "cell_type": "code",
   "execution_count": 12,
   "metadata": {},
   "outputs": [
    {
     "name": "stdout",
     "output_type": "stream",
     "text": [
      "data deleted\n"
     ]
    }
   ],
   "source": [
    "w = open('data.txt','w')\n",
    "w.write('data deleted')\n",
    "\n",
    "w1 = open('data.txt','r')\n",
    "print(w1.read())\n",
    "w.close()"
   ]
  },
  {
   "cell_type": "code",
   "execution_count": 13,
   "metadata": {},
   "outputs": [],
   "source": [
    "w = open('data1.txt','w')\n",
    "w.write('data found')\n",
    "w.close()"
   ]
  },
  {
   "cell_type": "code",
   "execution_count": null,
   "metadata": {},
   "outputs": [],
   "source": [
    "create --> will create the emty file\n",
    "\n",
    "write --> will create file with some data"
   ]
  },
  {
   "cell_type": "markdown",
   "metadata": {},
   "source": [
    "a = open('data1.txt','a')\n",
    "a.write('\\npython programming\\nonline class\\apssdc trainers\\narchana sreevidya keerthi')\n",
    "a.close()"
   ]
  },
  {
   "cell_type": "code",
   "execution_count": 27,
   "metadata": {},
   "outputs": [
    {
     "name": "stdout",
     "output_type": "stream",
     "text": [
      "archana sreevidya keerthi\n"
     ]
    }
   ],
   "source": [
    "#print(f.readline()) --> first\n",
    "f = open('data1.txt','r')\n",
    "data = f.read()\n",
    "res = data.splitlines()\n",
    "print(res[-1])\n"
   ]
  },
  {
   "cell_type": "markdown",
   "metadata": {},
   "source": [
    "### data processing with files\n",
    "1. char count \n",
    "2. num count\n",
    "3. lowercase count\n",
    "4. uppercase count\n",
    "5. spl char\n",
    "6. sum of all the numbers in given inp file"
   ]
  },
  {
   "cell_type": "code",
   "execution_count": 28,
   "metadata": {},
   "outputs": [
    {
     "name": "stdout",
     "output_type": "stream",
     "text": [
      "18 12 6 3 1\n"
     ]
    }
   ],
   "source": [
    "f = open('data1.txt','r')\n",
    "data = f.read()\n",
    "char = num = spl = lc = uc = 0\n",
    "for i in data:\n",
    "    if i.isalpha():\n",
    "        char +=1\n",
    "        res = i\n",
    "        if res.islower():\n",
    "            lc +=1\n",
    "        elif res.isupper():\n",
    "            uc += 1\n",
    "    elif i.isdigit():\n",
    "        num +=1\n",
    "    elif i != ' ' and i != '\\n':\n",
    "        spl +=1\n",
    "print(char,lc,uc,num,spl)"
   ]
  },
  {
   "cell_type": "code",
   "execution_count": 31,
   "metadata": {},
   "outputs": [
    {
     "name": "stdout",
     "output_type": "stream",
     "text": [
      "18 12 6 3 1 6\n"
     ]
    }
   ],
   "source": [
    "f = open('data1.txt','r')\n",
    "data = f.read()\n",
    "char = num = spl = lc = uc = sum1 = 0\n",
    "for i in data:\n",
    "    if i.isalpha():\n",
    "        char +=1\n",
    "        res = i\n",
    "        if res.islower():\n",
    "            lc +=1\n",
    "        elif res.isupper():\n",
    "            uc += 1\n",
    "    elif i.isdigit():\n",
    "        num +=1\n",
    "        sum1 += int(i)\n",
    "    elif i != ' ' and i != '\\n':\n",
    "        spl +=1\n",
    "print(char,lc,uc,num,spl,sum1)"
   ]
  },
  {
   "cell_type": "code",
   "execution_count": 34,
   "metadata": {},
   "outputs": [
    {
     "name": "stdout",
     "output_type": "stream",
     "text": [
      "APSSDC\n",
      "online\n",
      "python\n",
      "@123\n",
      "4\n"
     ]
    }
   ],
   "source": [
    "#calculate the word count from the given input file\n",
    "f = open('data1.txt','r')\n",
    "data = f.read()\n",
    "words = 0\n",
    "for i in data.split():\n",
    "    print(i)\n",
    "    words += 1\n",
    "print(words)"
   ]
  },
  {
   "cell_type": "code",
   "execution_count": 37,
   "metadata": {},
   "outputs": [
    {
     "name": "stdout",
     "output_type": "stream",
     "text": [
      "APSSDC\n",
      "online python\n",
      "@123 \n",
      "3\n"
     ]
    }
   ],
   "source": [
    "#calculate the line count from the given input file\n",
    "f = open('data1.txt','r')\n",
    "data = f.read()\n",
    "lines = 0\n",
    "for i in data.splitlines():\n",
    "    print(i)\n",
    "    lines += 1\n",
    "print(lines)"
   ]
  },
  {
   "cell_type": "code",
   "execution_count": 41,
   "metadata": {},
   "outputs": [
    {
     "name": "stdout",
     "output_type": "stream",
     "text": [
      "APSSDC\n",
      "online python\n",
      "@123 \n",
      "3\n"
     ]
    }
   ],
   "source": [
    "f = open('data1.txt','r')\n",
    "line = 0\n",
    "for i in f:\n",
    "    print(i,end = '')\n",
    "    line+=1\n",
    "print(line)"
   ]
  },
  {
   "cell_type": "code",
   "execution_count": 42,
   "metadata": {},
   "outputs": [
    {
     "name": "stdout",
     "output_type": "stream",
     "text": [
      "python\n",
      "online\n",
      "class\n"
     ]
    }
   ],
   "source": [
    "s = 'python online class'\n",
    "s = s.split()\n",
    "for i in s:\n",
    "    print(i)"
   ]
  },
  {
   "cell_type": "code",
   "execution_count": null,
   "metadata": {},
   "outputs": [],
   "source": [
    "#random student marks generation\n",
    "dynamic creaction : marks.txt\n",
    "class = 60-70\n",
    "one sub : 0-100\n",
    "dis = >70 \n",
    "first = \n",
    "fail = "
   ]
  }
 ],
 "metadata": {
  "kernelspec": {
   "display_name": "Python 3",
   "language": "python",
   "name": "python3"
  },
  "language_info": {
   "codemirror_mode": {
    "name": "ipython",
    "version": 3
   },
   "file_extension": ".py",
   "mimetype": "text/x-python",
   "name": "python",
   "nbconvert_exporter": "python",
   "pygments_lexer": "ipython3",
   "version": "3.7.3"
  }
 },
 "nbformat": 4,
 "nbformat_minor": 2
}
