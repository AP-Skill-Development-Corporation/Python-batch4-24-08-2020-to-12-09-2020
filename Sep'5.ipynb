{
 "cells": [
  {
   "cell_type": "markdown",
   "metadata": {},
   "source": [
    "## regular expression\n",
    "* it package \n",
    "* pattern matching to given text\n",
    "* sequence of character -a-z,0-9\n",
    "\n",
    "- [] --> set of character\n",
    "- [a-z] --> a,b,c/....z \n",
    "- [A-Z] ---> character\n",
    "- [a-zA-Z] --> lower case letter or upper case letter\n",
    "- [0-9] --> it will match the number\n",
    "- [a-zA-Z0-9] --> it will match character or number\n",
    "- {} --> it will match specific no.of count\n",
    "\n",
    "# regex functions\n",
    "1. findall\n",
    "2. search\n",
    "3. split\n",
    "4. sub"
   ]
  },
  {
   "cell_type": "code",
   "execution_count": null,
   "metadata": {},
   "outputs": [],
   "source": [
    "--> 6-9 --> [6-9] --> [6-9] --> one number from 6 to 9\n",
    "--> 0-9 --> [0-9]{9} ---> remaining 9 numbers from 0 to 9"
   ]
  },
  {
   "cell_type": "code",
   "execution_count": null,
   "metadata": {},
   "outputs": [],
   "source": [
    "str\n",
    "int\n",
    "flot"
   ]
  },
  {
   "cell_type": "code",
   "execution_count": 1,
   "metadata": {},
   "outputs": [
    {
     "name": "stdout",
     "output_type": "stream",
     "text": [
      "archana anu chinnu\n",
      "['a', 'a', 'a', 'a']\n"
     ]
    }
   ],
   "source": [
    "import re\n",
    "n = input()\n",
    "res = re.findall('a',n)\n",
    "print(res)"
   ]
  },
  {
   "cell_type": "code",
   "execution_count": 2,
   "metadata": {},
   "outputs": [
    {
     "name": "stdout",
     "output_type": "stream",
     "text": [
      "anu chinnu anuchinnu\n",
      "anu\n",
      "anuchinnu\n"
     ]
    }
   ],
   "source": [
    "s = input().split()\n",
    "for i in s:\n",
    "    if re.findall('a',i):\n",
    "        print(i)"
   ]
  },
  {
   "cell_type": "code",
   "execution_count": 3,
   "metadata": {},
   "outputs": [
    {
     "name": "stdout",
     "output_type": "stream",
     "text": [
      "anu vidya keerthi\n",
      "anu\n",
      "vidya\n"
     ]
    }
   ],
   "source": [
    "s = input().split()\n",
    "for i in s:\n",
    "    if re.findall('a',i):\n",
    "        print(i)"
   ]
  },
  {
   "cell_type": "code",
   "execution_count": 4,
   "metadata": {},
   "outputs": [
    {
     "name": "stdout",
     "output_type": "stream",
     "text": [
      "archana anusha apssdc python\n",
      "archana\n",
      "anusha\n",
      "apssdc\n"
     ]
    }
   ],
   "source": [
    "s = input().split()\n",
    "for i in s:\n",
    "    if re.findall('^a',i):\n",
    "        print(i)"
   ]
  },
  {
   "cell_type": "code",
   "execution_count": 6,
   "metadata": {},
   "outputs": [
    {
     "name": "stdout",
     "output_type": "stream",
     "text": [
      "abc123 1234 python\n",
      "abc123\n",
      "1234\n"
     ]
    }
   ],
   "source": [
    "inp = input().split()\n",
    "for i in inp:\n",
    "    if re.findall('[0-9]',i):\n",
    "        print(i)"
   ]
  },
  {
   "cell_type": "code",
   "execution_count": 7,
   "metadata": {},
   "outputs": [
    {
     "name": "stdout",
     "output_type": "stream",
     "text": [
      "abc123 python apssdc123\n",
      "['1', '2', '3', '1', '2', '3']\n"
     ]
    }
   ],
   "source": [
    "num = input()\n",
    "res = re.findall('[0-9]',num)\n",
    "print(res)"
   ]
  },
  {
   "cell_type": "code",
   "execution_count": 8,
   "metadata": {},
   "outputs": [
    {
     "name": "stdout",
     "output_type": "stream",
     "text": [
      "abc123 python apssdc123\n",
      "['123', '123']\n"
     ]
    }
   ],
   "source": [
    "num = input()\n",
    "res = re.findall('[0-9]+',num)\n",
    "print(res)"
   ]
  },
  {
   "cell_type": "code",
   "execution_count": 11,
   "metadata": {},
   "outputs": [
    {
     "name": "stdout",
     "output_type": "stream",
     "text": [
      "abc123 python apssdc123\n",
      "abc123\n",
      "apssdc123\n"
     ]
    }
   ],
   "source": [
    "num = input().split()\n",
    "for i in num:\n",
    "    if re.search('[0-9]',i):\n",
    "        print(i)"
   ]
  },
  {
   "cell_type": "code",
   "execution_count": 12,
   "metadata": {},
   "outputs": [
    {
     "name": "stdout",
     "output_type": "stream",
     "text": [
      "abc123 python apssdc123\n",
      "['a', 'b', 'c', 'p', 'y', 't', 'h', 'o', 'n', 'a', 'p', 's', 's', 'd', 'c']\n"
     ]
    }
   ],
   "source": [
    "num = input()\n",
    "res = re.findall('[a-z]',num)\n",
    "print(res)"
   ]
  },
  {
   "cell_type": "code",
   "execution_count": 13,
   "metadata": {},
   "outputs": [
    {
     "name": "stdout",
     "output_type": "stream",
     "text": [
      "apssdc@123 apssdc python\n",
      "['apssdc', 'apssdc', 'python']\n"
     ]
    }
   ],
   "source": [
    "num = input()\n",
    "res = re.findall('[a-z]+',num)\n",
    "print(res)"
   ]
  },
  {
   "cell_type": "code",
   "execution_count": 24,
   "metadata": {},
   "outputs": [
    {
     "name": "stdout",
     "output_type": "stream",
     "text": [
      "apssdc@123\n",
      "['apssdc']\n"
     ]
    }
   ],
   "source": [
    "num = input()\n",
    "res = re.findall('^a[a-z]+',num)\n",
    "print(res)"
   ]
  },
  {
   "cell_type": "code",
   "execution_count": 25,
   "metadata": {},
   "outputs": [
    {
     "name": "stdout",
     "output_type": "stream",
     "text": [
      "archana vidya keerthi\n"
     ]
    },
    {
     "data": {
      "text/plain": [
       "['a', 'a', 'a', 'i', 'a', 'e', 'e', 'i']"
      ]
     },
     "execution_count": 25,
     "metadata": {},
     "output_type": "execute_result"
    }
   ],
   "source": [
    "vowels = input()\n",
    "v = re.findall('[AEIOUaeiou]',vowels)\n",
    "v"
   ]
  },
  {
   "cell_type": "code",
   "execution_count": 51,
   "metadata": {},
   "outputs": [
    {
     "name": "stdout",
     "output_type": "stream",
     "text": [
      "archana python apssdc\n"
     ]
    },
    {
     "data": {
      "text/plain": [
       "['', 'rch', 'n', ' python ', 'pssdc']"
      ]
     },
     "execution_count": 51,
     "metadata": {},
     "output_type": "execute_result"
    }
   ],
   "source": [
    "s = input()\n",
    "s1 = re.split('a',s)\n",
    "s1"
   ]
  },
  {
   "cell_type": "code",
   "execution_count": 52,
   "metadata": {},
   "outputs": [
    {
     "name": "stdout",
     "output_type": "stream",
     "text": [
      "apssdc archana anu\n"
     ]
    },
    {
     "data": {
      "text/plain": [
       "'**pssdc **rch**n** **nu'"
      ]
     },
     "execution_count": 52,
     "metadata": {},
     "output_type": "execute_result"
    }
   ],
   "source": [
    "s = input()\n",
    "s1 = re.sub('a','**',s)\n",
    "s1"
   ]
  },
  {
   "cell_type": "code",
   "execution_count": null,
   "metadata": {},
   "outputs": [],
   "source": [
    "6342674842\n",
    "7654321909\n",
    "8765432190\n",
    "9876543210\n",
    "+91 8765432452"
   ]
  },
  {
   "cell_type": "code",
   "execution_count": 30,
   "metadata": {},
   "outputs": [
    {
     "name": "stdout",
     "output_type": "stream",
     "text": [
      "9876543210\n",
      "valid mobile number\n"
     ]
    }
   ],
   "source": [
    "# pattern for mobile number\n",
    "mnum = input()\n",
    "pattern = '^[6-9][0-9]{9}$'\n",
    "if re.match(pattern,mnum):\n",
    "    print(\"valid mobile number\")\n",
    "else:\n",
    "    print(\"invalid mobile number\")"
   ]
  },
  {
   "cell_type": "code",
   "execution_count": 41,
   "metadata": {},
   "outputs": [
    {
     "name": "stdout",
     "output_type": "stream",
     "text": [
      "+91 9876543210\n",
      "valid mobile number\n"
     ]
    }
   ],
   "source": [
    "#+91 9876543210\n",
    "pattern = '^[6-9][0-9]{9}$|^[+][9][1][ ][6-9][0-9]{9}$'\n",
    "mnum = input()\n",
    "if re.match(pattern,mnum):\n",
    "    print(\"valid mobile number\")\n",
    "else:\n",
    "    print(\"invalid mobile number\")"
   ]
  },
  {
   "cell_type": "markdown",
   "metadata": {},
   "source": [
    "archana@gmail.com\n",
    "archana540@gmail.com\n",
    "arcahna_e@gmail.com\n",
    "archana.e@apssdc.in\n",
    "urrollnum@clgname.in\n",
    "anjani@google.com\n",
    "vidya@yahoo.info"
   ]
  },
  {
   "cell_type": "code",
   "execution_count": 44,
   "metadata": {},
   "outputs": [],
   "source": [
    "#email validation\n",
    "pattern1 = '^[a-z0-9][a-z0-9_.]{5,20}[@][a-z]{5,7}[.][a-z]{2,5}'"
   ]
  },
  {
   "cell_type": "code",
   "execution_count": 48,
   "metadata": {},
   "outputs": [
    {
     "name": "stdout",
     "output_type": "stream",
     "text": [
      "venki.kv60@gmail.com\n",
      "valid email\n"
     ]
    }
   ],
   "source": [
    "email = input()\n",
    "if re.match(pattern1,email):\n",
    "    print('valid email')\n",
    "else:\n",
    "    print(\"invalid email\")"
   ]
  },
  {
   "cell_type": "code",
   "execution_count": null,
   "metadata": {},
   "outputs": [],
   "source": []
  }
 ],
 "metadata": {
  "kernelspec": {
   "display_name": "Python 3",
   "language": "python",
   "name": "python3"
  },
  "language_info": {
   "codemirror_mode": {
    "name": "ipython",
    "version": 3
   },
   "file_extension": ".py",
   "mimetype": "text/x-python",
   "name": "python",
   "nbconvert_exporter": "python",
   "pygments_lexer": "ipython3",
   "version": "3.7.3"
  }
 },
 "nbformat": 4,
 "nbformat_minor": 2
}
