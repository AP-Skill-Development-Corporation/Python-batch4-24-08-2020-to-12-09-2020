{
 "cells": [
  {
   "cell_type": "markdown",
   "metadata": {},
   "source": [
    "## Iterators\n",
    "- Iterator is an object \n",
    "- It is used to iterate over iterable objects like lists,tuples,dicts and sets.\n",
    "- Iterator object is intialised using iter() method\n",
    "- It uses the next() for iteration"
   ]
  },
  {
   "cell_type": "code",
   "execution_count": 1,
   "metadata": {},
   "outputs": [
    {
     "name": "stdout",
     "output_type": "stream",
     "text": [
      "1\n",
      "2\n",
      "3\n",
      "4\n",
      "5\n"
     ]
    }
   ],
   "source": [
    "li = [1,2,3,4,5]\n",
    "for i in li:\n",
    "    print(i)"
   ]
  },
  {
   "cell_type": "code",
   "execution_count": 2,
   "metadata": {},
   "outputs": [
    {
     "name": "stdout",
     "output_type": "stream",
     "text": [
      "<str_iterator object at 0x000001A90F5C3400>\n"
     ]
    }
   ],
   "source": [
    "iterable_value = 'Python program'\n",
    "itr_obj = iter(iterable_value )\n",
    "print(itr_obj)"
   ]
  },
  {
   "cell_type": "code",
   "execution_count": 4,
   "metadata": {},
   "outputs": [
    {
     "name": "stdout",
     "output_type": "stream",
     "text": [
      "y\n",
      "t\n"
     ]
    }
   ],
   "source": [
    "print(next(itr_obj))\n",
    "print(next(itr_obj))"
   ]
  },
  {
   "cell_type": "code",
   "execution_count": 11,
   "metadata": {},
   "outputs": [
    {
     "name": "stdout",
     "output_type": "stream",
     "text": [
      "C\n",
      "C++\n"
     ]
    }
   ],
   "source": [
    "lst = ['C','C++','Java','Python']\n",
    "itr_obj = iter(lst)\n",
    "print(next(itr_obj))\n",
    "print(next(itr_obj))"
   ]
  },
  {
   "cell_type": "code",
   "execution_count": 7,
   "metadata": {},
   "outputs": [
    {
     "name": "stdout",
     "output_type": "stream",
     "text": [
      "K\n",
      "e\n",
      "e\n",
      "r\n",
      "t\n",
      "h\n",
      "i\n"
     ]
    }
   ],
   "source": [
    "# example of a python inbuilt iterator\n",
    "itr_value = 'Keerthi'\n",
    "itr_obj = iter(itr_value)\n",
    "\n",
    "while True:\n",
    "    try:\n",
    "        item = next(itr_obj)\n",
    "        print(item)\n",
    "        \n",
    "    except StopIteration:\n",
    "        \n",
    "        break"
   ]
  },
  {
   "cell_type": "markdown",
   "metadata": {},
   "source": [
    "## Generators\n",
    "- Generator is also like function but in place of return we will use yield keyword\n",
    "- Generators will be used in combination of iterator"
   ]
  },
  {
   "cell_type": "code",
   "execution_count": 9,
   "metadata": {},
   "outputs": [
    {
     "name": "stdout",
     "output_type": "stream",
     "text": [
      "This is printed first\n",
      "1\n",
      "This is printed second\n",
      "2\n",
      "This is printed third\n",
      "3\n"
     ]
    }
   ],
   "source": [
    "def my_gen():\n",
    "    n = 1\n",
    "    print('This is printed first')\n",
    "    yield n\n",
    "    \n",
    "    n += 1\n",
    "    print('This is printed second')\n",
    "    yield n\n",
    "    \n",
    "    n += 1\n",
    "    print('This is printed third')\n",
    "    yield n\n",
    "    \n",
    "for item in my_gen():\n",
    "    print(item)"
   ]
  },
  {
   "cell_type": "code",
   "execution_count": 12,
   "metadata": {},
   "outputs": [
    {
     "name": "stdout",
     "output_type": "stream",
     "text": [
      "2\n",
      "4\n",
      "8\n"
     ]
    }
   ],
   "source": [
    "def gen_fun(n):\n",
    "    yield n**2\n",
    "    yield n**3\n",
    "    \n",
    "n = int(input())\n",
    "for i in gen_fun(n):\n",
    "    print(i)"
   ]
  },
  {
   "cell_type": "markdown",
   "metadata": {},
   "source": [
    "## Maps\n",
    "- Map() function is used to apply a function on all the elements of specified iterable and return map\n",
    "\n",
    "**Syntax :** map(function,iterable)"
   ]
  },
  {
   "cell_type": "code",
   "execution_count": 13,
   "metadata": {},
   "outputs": [
    {
     "name": "stdout",
     "output_type": "stream",
     "text": [
      "1 2 3 4 5\n"
     ]
    },
    {
     "data": {
      "text/plain": [
       "['1', '2', '3', '4', '5']"
      ]
     },
     "execution_count": 13,
     "metadata": {},
     "output_type": "execute_result"
    }
   ],
   "source": [
    "x = input().split()\n",
    "x"
   ]
  },
  {
   "cell_type": "code",
   "execution_count": 15,
   "metadata": {},
   "outputs": [
    {
     "name": "stdout",
     "output_type": "stream",
     "text": [
      "1 2 3 4\n",
      "[1, 2, 3, 4]\n",
      "<class 'int'>\n"
     ]
    }
   ],
   "source": [
    "s = input().split()\n",
    "x = list(map(int,s))\n",
    "print(x)\n",
    "print(type(x[0]))"
   ]
  },
  {
   "cell_type": "code",
   "execution_count": 16,
   "metadata": {},
   "outputs": [
    {
     "name": "stdout",
     "output_type": "stream",
     "text": [
      "1 2 3 4\n",
      "[1.0, 2.0, 3.0, 4.0]\n",
      "<class 'float'>\n"
     ]
    }
   ],
   "source": [
    "s = input().split()\n",
    "x = list(map(float,s))\n",
    "print(x)\n",
    "print(type(x[0]))"
   ]
  },
  {
   "cell_type": "code",
   "execution_count": 18,
   "metadata": {},
   "outputs": [
    {
     "name": "stdout",
     "output_type": "stream",
     "text": [
      "1 2 3 4\n",
      "[False, True, False, True]\n"
     ]
    }
   ],
   "source": [
    "def even(n):\n",
    "    if int(n)%2==0:\n",
    "        return True\n",
    "    return False\n",
    "\n",
    "x = input().split()\n",
    "s = list(map(even,x))\n",
    "print(s)"
   ]
  },
  {
   "cell_type": "code",
   "execution_count": 21,
   "metadata": {},
   "outputs": [
    {
     "name": "stdout",
     "output_type": "stream",
     "text": [
      "1 2 3 4 5\n",
      "(False, True, False, True, False)\n"
     ]
    }
   ],
   "source": [
    "def even(n):\n",
    "    if int(n)%2==0:\n",
    "        return True\n",
    "    return False\n",
    "\n",
    "x = input().split()\n",
    "s = tuple(map(even,x))\n",
    "print(s)"
   ]
  },
  {
   "cell_type": "code",
   "execution_count": 22,
   "metadata": {},
   "outputs": [
    {
     "name": "stdout",
     "output_type": "stream",
     "text": [
      "1 2 3 4 5\n",
      "{False, True}\n"
     ]
    }
   ],
   "source": [
    "def even(n):\n",
    "    if int(n)%2==0:\n",
    "        return True\n",
    "    return False\n",
    "\n",
    "x = input().split()\n",
    "s = set(map(even,x))\n",
    "print(s)"
   ]
  },
  {
   "cell_type": "code",
   "execution_count": null,
   "metadata": {},
   "outputs": [],
   "source": [
    "input = ['python','online','program']\n",
    "output = [6,6,7]"
   ]
  },
  {
   "cell_type": "code",
   "execution_count": 23,
   "metadata": {},
   "outputs": [
    {
     "name": "stdout",
     "output_type": "stream",
     "text": [
      "python online program\n",
      "[6, 6, 7]\n"
     ]
    }
   ],
   "source": [
    "def word_len(n):\n",
    "    return len(n)\n",
    "\n",
    "n = input().split()\n",
    "print(list(map(word_len,n)))"
   ]
  },
  {
   "cell_type": "code",
   "execution_count": 27,
   "metadata": {},
   "outputs": [
    {
     "name": "stdout",
     "output_type": "stream",
     "text": [
      "python online program\n",
      "[6, 6, 7]\n"
     ]
    }
   ],
   "source": [
    "# def word_len(n):\n",
    "#     return len(n)\n",
    "\n",
    "n = input().split()\n",
    "print(list(map(len,n)))"
   ]
  },
  {
   "cell_type": "code",
   "execution_count": null,
   "metadata": {},
   "outputs": [],
   "source": [
    "input = ['python','online','program']\n",
    "output = ['Python','Online','Program']"
   ]
  },
  {
   "cell_type": "code",
   "execution_count": 28,
   "metadata": {},
   "outputs": [
    {
     "name": "stdout",
     "output_type": "stream",
     "text": [
      "python online program\n",
      "['Python', 'Online', 'Program']\n"
     ]
    }
   ],
   "source": [
    "def title(n):\n",
    "    return n.capitalize()\n",
    "\n",
    "n = input().split()\n",
    "print(list(map(title,n)))"
   ]
  },
  {
   "cell_type": "code",
   "execution_count": 36,
   "metadata": {},
   "outputs": [
    {
     "name": "stdout",
     "output_type": "stream",
     "text": [
      "python online program\n",
      "['Python', 'Online', 'Program']\n"
     ]
    }
   ],
   "source": [
    "def title(n):\n",
    "    return n.title()\n",
    "\n",
    "n = input().split()\n",
    "print(list(map(title,n)))"
   ]
  },
  {
   "cell_type": "code",
   "execution_count": 33,
   "metadata": {},
   "outputs": [
    {
     "name": "stdout",
     "output_type": "stream",
     "text": [
      "[1, 8, 27]\n"
     ]
    }
   ],
   "source": [
    "def cube(n):\n",
    "    return n**3\n",
    "print(list(map(cube,[1,2,3])))"
   ]
  },
  {
   "cell_type": "code",
   "execution_count": 34,
   "metadata": {},
   "outputs": [
    {
     "name": "stdout",
     "output_type": "stream",
     "text": [
      "Keerthi\n"
     ]
    }
   ],
   "source": [
    "s = 'keerthi'\n",
    "print(s.title())"
   ]
  },
  {
   "cell_type": "code",
   "execution_count": 35,
   "metadata": {},
   "outputs": [
    {
     "name": "stdout",
     "output_type": "stream",
     "text": [
      "python online\n",
      "Python\n",
      "Online\n"
     ]
    }
   ],
   "source": [
    "s = input().split()\n",
    "for i in s:\n",
    "    print(i.title())"
   ]
  },
  {
   "cell_type": "markdown",
   "metadata": {},
   "source": [
    "## Filters\n",
    "- Filter function is used to check whether the given element is boolean or not.\n",
    "- And returns the element which is true\n",
    "\n",
    "**Syntax :** filter(function,iterable)"
   ]
  },
  {
   "cell_type": "code",
   "execution_count": 37,
   "metadata": {},
   "outputs": [
    {
     "name": "stdout",
     "output_type": "stream",
     "text": [
      "[34, 78]\n"
     ]
    }
   ],
   "source": [
    "def voter(n):\n",
    "    if n>=18:\n",
    "        return True\n",
    "    return False\n",
    "\n",
    "print(list(filter(voter,[12,34,78,13])))"
   ]
  },
  {
   "cell_type": "code",
   "execution_count": 38,
   "metadata": {},
   "outputs": [
    {
     "name": "stdout",
     "output_type": "stream",
     "text": [
      "[False, True, True, False]\n"
     ]
    }
   ],
   "source": [
    "def voter(n):\n",
    "    if n>=18:\n",
    "        return True\n",
    "    return False\n",
    "\n",
    "print(list(map(voter,[12,34,78,13])))"
   ]
  },
  {
   "cell_type": "code",
   "execution_count": 41,
   "metadata": {},
   "outputs": [
    {
     "name": "stdout",
     "output_type": "stream",
     "text": [
      "(34, 78)\n"
     ]
    }
   ],
   "source": [
    "def voter(n):\n",
    "    if n>=18:\n",
    "        return True\n",
    "    return False\n",
    "\n",
    "print(tuple(filter(voter,[12,34,78,13])))"
   ]
  },
  {
   "cell_type": "code",
   "execution_count": 42,
   "metadata": {},
   "outputs": [
    {
     "name": "stdout",
     "output_type": "stream",
     "text": [
      "{34, 78}\n"
     ]
    }
   ],
   "source": [
    "def voter(n):\n",
    "    if n>=18:\n",
    "        return True\n",
    "    return False\n",
    "\n",
    "print(set(filter(voter,[12,34,78,13])))"
   ]
  },
  {
   "cell_type": "markdown",
   "metadata": {},
   "source": [
    "## Lambda\n",
    "- Python allows you to create anonymous function. i.e fuction having no name\n",
    "- Lambda function are small functions usually not more than one line.\n",
    "- It can has any number of arguments.\n",
    "\n",
    "**Syntax :** lambda arguments:expresson"
   ]
  },
  {
   "cell_type": "code",
   "execution_count": 43,
   "metadata": {},
   "outputs": [
    {
     "data": {
      "text/plain": [
       "64"
      ]
     },
     "execution_count": 43,
     "metadata": {},
     "output_type": "execute_result"
    }
   ],
   "source": [
    "res = lambda x:x**3\n",
    "res(4)"
   ]
  },
  {
   "cell_type": "code",
   "execution_count": 44,
   "metadata": {},
   "outputs": [
    {
     "data": {
      "text/plain": [
       "6"
      ]
     },
     "execution_count": 44,
     "metadata": {},
     "output_type": "execute_result"
    }
   ],
   "source": [
    "x = lambda a,b:a*b\n",
    "x(2,3)"
   ]
  },
  {
   "cell_type": "code",
   "execution_count": 45,
   "metadata": {},
   "outputs": [
    {
     "data": {
      "text/plain": [
       "[False, False, True, False, False]"
      ]
     },
     "execution_count": 45,
     "metadata": {},
     "output_type": "execute_result"
    }
   ],
   "source": [
    "list(map(lambda x:x%2==0,[1,3,2,5,17]))"
   ]
  },
  {
   "cell_type": "code",
   "execution_count": 47,
   "metadata": {
    "scrolled": true
   },
   "outputs": [
    {
     "name": "stdout",
     "output_type": "stream",
     "text": [
      "1 3 2 4 5\n"
     ]
    },
    {
     "data": {
      "text/plain": [
       "[False, False, True, True, False]"
      ]
     },
     "execution_count": 47,
     "metadata": {},
     "output_type": "execute_result"
    }
   ],
   "source": [
    "list(map(lambda x:int(x)%2==0,input().split()))"
   ]
  },
  {
   "cell_type": "code",
   "execution_count": 49,
   "metadata": {},
   "outputs": [
    {
     "data": {
      "text/plain": [
       "[True, False, True, False, True, False, True, False, True]"
      ]
     },
     "execution_count": 49,
     "metadata": {},
     "output_type": "execute_result"
    }
   ],
   "source": [
    "list(map(lambda x:int(x)%2==0,range(12,21)))"
   ]
  },
  {
   "cell_type": "code",
   "execution_count": 48,
   "metadata": {},
   "outputs": [
    {
     "name": "stdout",
     "output_type": "stream",
     "text": [
      "12 3 14 51\n"
     ]
    },
    {
     "data": {
      "text/plain": [
       "['12', '14']"
      ]
     },
     "execution_count": 48,
     "metadata": {},
     "output_type": "execute_result"
    }
   ],
   "source": [
    "list(filter(lambda x:int(x)%2==0,input().split()))"
   ]
  },
  {
   "cell_type": "code",
   "execution_count": null,
   "metadata": {},
   "outputs": [],
   "source": []
  }
 ],
 "metadata": {
  "kernelspec": {
   "display_name": "Python 3",
   "language": "python",
   "name": "python3"
  },
  "language_info": {
   "codemirror_mode": {
    "name": "ipython",
    "version": 3
   },
   "file_extension": ".py",
   "mimetype": "text/x-python",
   "name": "python",
   "nbconvert_exporter": "python",
   "pygments_lexer": "ipython3",
   "version": "3.8.3"
  }
 },
 "nbformat": 4,
 "nbformat_minor": 4
}
