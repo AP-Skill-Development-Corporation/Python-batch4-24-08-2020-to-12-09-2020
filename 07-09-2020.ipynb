{
 "cells": [
  {
   "cell_type": "markdown",
   "metadata": {},
   "source": [
    "## Comprehensions\n",
    "1. What is comprehension?\n",
    "- We can create new sequences using a given sequences. This is called Comprehension\n",
    "- It is a way of writing a concise block of code to generate a sequence which can be a list,dictionary, set and generator.\n",
    "\n",
    "### Advantages\n",
    "- Makes code simple and concise\n",
    "- Reduces the number of lines of code\n",
    "\n",
    "### Types of Comprehensions in python\n",
    "1. List Comprehension\n",
    "2. Dictionary Comprehension\n",
    "3. Set Comprehension\n",
    "4. Generator Comprehension"
   ]
  },
  {
   "cell_type": "markdown",
   "metadata": {},
   "source": [
    "### 1. List Comprehension\n",
    "- It is a way to define and create lists based on existing lists.\n",
    "- Faster than normal functions and loops for creating lists."
   ]
  },
  {
   "cell_type": "code",
   "execution_count": 2,
   "metadata": {},
   "outputs": [
    {
     "name": "stdout",
     "output_type": "stream",
     "text": [
      "1 2 3 4 5 6 7 8 9 10 "
     ]
    }
   ],
   "source": [
    "for i in range(1,11):\n",
    "    print(i,end=\" \")"
   ]
  },
  {
   "cell_type": "code",
   "execution_count": 3,
   "metadata": {},
   "outputs": [
    {
     "name": "stdout",
     "output_type": "stream",
     "text": [
      "[1, 2, 3, 4, 5, 6, 7, 8, 9, 10]\n"
     ]
    }
   ],
   "source": [
    "li = []\n",
    "for i in range(1,11):\n",
    "    li.append(i)\n",
    "print(li)"
   ]
  },
  {
   "cell_type": "code",
   "execution_count": 4,
   "metadata": {},
   "outputs": [
    {
     "data": {
      "text/plain": [
       "[1, 2, 3, 4, 5, 6, 7, 8, 9, 10]"
      ]
     },
     "execution_count": 4,
     "metadata": {},
     "output_type": "execute_result"
    }
   ],
   "source": [
    "# Using List Comprehension\n",
    "s = [i for i in range(1,11)]\n",
    "s "
   ]
  },
  {
   "cell_type": "code",
   "execution_count": 5,
   "metadata": {},
   "outputs": [
    {
     "data": {
      "text/plain": [
       "[1, 2, 3, 4, 5, 6, 7, 8, 9, 10]"
      ]
     },
     "execution_count": 5,
     "metadata": {},
     "output_type": "execute_result"
    }
   ],
   "source": [
    "[i for i in range(1,11)]"
   ]
  },
  {
   "cell_type": "code",
   "execution_count": 6,
   "metadata": {},
   "outputs": [
    {
     "name": "stdout",
     "output_type": "stream",
     "text": [
      "[1, 8, 27, 64, 125]\n"
     ]
    }
   ],
   "source": [
    "lst = [1,2,3,4,5]\n",
    "lst2 = []\n",
    "for i in lst:\n",
    "    lst2.append(i**3)\n",
    "print(lst2)"
   ]
  },
  {
   "cell_type": "code",
   "execution_count": 8,
   "metadata": {},
   "outputs": [
    {
     "name": "stdout",
     "output_type": "stream",
     "text": [
      "8\n"
     ]
    }
   ],
   "source": [
    "i=2\n",
    "print(i*i*i)"
   ]
  },
  {
   "cell_type": "code",
   "execution_count": 11,
   "metadata": {},
   "outputs": [
    {
     "data": {
      "text/plain": [
       "[1, 8, 27, 64, 125]"
      ]
     },
     "execution_count": 11,
     "metadata": {},
     "output_type": "execute_result"
    }
   ],
   "source": [
    "li = [1,2,3,4,5]\n",
    "[n**3 for n in li ]"
   ]
  },
  {
   "cell_type": "code",
   "execution_count": 9,
   "metadata": {},
   "outputs": [
    {
     "name": "stdout",
     "output_type": "stream",
     "text": [
      "1 2 3 4 5\n",
      "['1', '2', '3', '4', '5']\n"
     ]
    },
    {
     "data": {
      "text/plain": [
       "[1, 8, 27, 64, 125]"
      ]
     },
     "execution_count": 9,
     "metadata": {},
     "output_type": "execute_result"
    }
   ],
   "source": [
    "li = input().split()\n",
    "print(li)\n",
    "[int(n)**3 for n in li]"
   ]
  },
  {
   "cell_type": "code",
   "execution_count": 14,
   "metadata": {},
   "outputs": [
    {
     "name": "stdout",
     "output_type": "stream",
     "text": [
      "1\n",
      "<class 'str'>\n"
     ]
    }
   ],
   "source": [
    "li = input().split()\n",
    "for i in li:\n",
    "    print(type(i))"
   ]
  },
  {
   "cell_type": "code",
   "execution_count": 15,
   "metadata": {},
   "outputs": [
    {
     "data": {
      "text/plain": [
       "[2, 4]"
      ]
     },
     "execution_count": 15,
     "metadata": {},
     "output_type": "execute_result"
    }
   ],
   "source": [
    "[e for e in range(1,6) if e%2==0]"
   ]
  },
  {
   "cell_type": "code",
   "execution_count": 16,
   "metadata": {},
   "outputs": [
    {
     "data": {
      "text/plain": [
       "[10, 20, 30, 40, 50]"
      ]
     },
     "execution_count": 16,
     "metadata": {},
     "output_type": "execute_result"
    }
   ],
   "source": [
    "# Nested if with list comprehension\n",
    "[i for i in range(1,51) if i%2==0 if i%5==0]"
   ]
  },
  {
   "cell_type": "code",
   "execution_count": 17,
   "metadata": {},
   "outputs": [
    {
     "name": "stdout",
     "output_type": "stream",
     "text": [
      "['odd', 'even', 'odd', 'odd', 'odd', 'even']\n"
     ]
    }
   ],
   "source": [
    "li = [1,2,5,33,45,66]\n",
    "l2 = []\n",
    "for i in li:\n",
    "    if i%2==0:\n",
    "        l2.append('even')\n",
    "    else:\n",
    "        l2.append('odd')\n",
    "print(l2)"
   ]
  },
  {
   "cell_type": "code",
   "execution_count": 18,
   "metadata": {},
   "outputs": [
    {
     "data": {
      "text/plain": [
       "['odd', 'even', 'even', 'odd', 'odd', 'even']"
      ]
     },
     "execution_count": 18,
     "metadata": {},
     "output_type": "execute_result"
    }
   ],
   "source": [
    "['even' if i%2==0 else 'odd' for i in [1,2,4,3,5,6]]"
   ]
  },
  {
   "cell_type": "code",
   "execution_count": 19,
   "metadata": {},
   "outputs": [
    {
     "name": "stdout",
     "output_type": "stream",
     "text": [
      "online programming\n",
      "for all students\n"
     ]
    }
   ],
   "source": [
    "#input = ['online programming','for all students']\n",
    "#output = ['online','programming','for','all','students']\n",
    "lst1 = ['online programming','for all students']\n",
    "lst2 = []\n",
    "for lines in lst1:\n",
    "    print(lines)"
   ]
  },
  {
   "cell_type": "code",
   "execution_count": 21,
   "metadata": {},
   "outputs": [
    {
     "name": "stdout",
     "output_type": "stream",
     "text": [
      "['online', 'programming', 'for', 'all', 'students']\n"
     ]
    }
   ],
   "source": [
    "lst1 = ['online programming','for all students']\n",
    "lst2 = []\n",
    "for lines in lst1:\n",
    "    for word in lines.split():\n",
    "        #print(word)\n",
    "        lst2.append(word)\n",
    "print(lst2)"
   ]
  },
  {
   "cell_type": "code",
   "execution_count": 24,
   "metadata": {},
   "outputs": [
    {
     "data": {
      "text/plain": [
       "['online', 'programming', 'for', 'all', 'students']"
      ]
     },
     "execution_count": 24,
     "metadata": {},
     "output_type": "execute_result"
    }
   ],
   "source": [
    "# nested loops using list comprehension\n",
    "\n",
    "lst1 = ['online programming','for all students']\n",
    "[words for lines in lst1 for words in lines.split()]"
   ]
  },
  {
   "cell_type": "code",
   "execution_count": 25,
   "metadata": {},
   "outputs": [
    {
     "data": {
      "text/plain": [
       "['online', 'programming', 'for', 'all', 'students']"
      ]
     },
     "execution_count": 25,
     "metadata": {},
     "output_type": "execute_result"
    }
   ],
   "source": [
    "[words for lines in ['online programming','for all students'] for words in lines.split()]"
   ]
  },
  {
   "cell_type": "code",
   "execution_count": 2,
   "metadata": {},
   "outputs": [
    {
     "name": "stdout",
     "output_type": "stream",
     "text": [
      "apssdc 12345 apssdc123\n",
      "['string', 'digit', 'alphanumeric']\n"
     ]
    }
   ],
   "source": [
    "# if...else using list comprehension\n",
    "# input = ['keerthi','apssdc','123','apssdc123']\n",
    "# output = ['string','string','digit','alphanumeric']\n",
    "n = input().split()\n",
    "l2 = []\n",
    "for i in n:\n",
    "    if i.isalpha():\n",
    "        l2.append('string')\n",
    "    elif i.isdigit():\n",
    "        l2.append('digit')\n",
    "    else:\n",
    "        l2.append('alphanumeric')\n",
    "        \n",
    "print(l2)"
   ]
  },
  {
   "cell_type": "code",
   "execution_count": 3,
   "metadata": {},
   "outputs": [
    {
     "name": "stdout",
     "output_type": "stream",
     "text": [
      "keerthi apssdc 134 apssdc123\n",
      "['string', 'string', 'digit', 'alphanumeric']\n"
     ]
    }
   ],
   "source": [
    "n = input().split()\n",
    "l2 = []\n",
    "for i in n:\n",
    "    if i.isalpha():\n",
    "        l2.append('string')\n",
    "    else:\n",
    "        if i.isdigit():\n",
    "            l2.append('digit')\n",
    "        else:\n",
    "            l2.append('alphanumeric')\n",
    "        \n",
    "print(l2)"
   ]
  },
  {
   "cell_type": "code",
   "execution_count": 5,
   "metadata": {},
   "outputs": [
    {
     "data": {
      "text/plain": [
       "['string', 'digit', 'string', 'alphanumeric']"
      ]
     },
     "execution_count": 5,
     "metadata": {},
     "output_type": "execute_result"
    }
   ],
   "source": [
    "li=['keerthi','123','alphanumeric','apssdc123']\n",
    "['string' if i.isalpha() else 'digit' if i.isdigit() else 'alphanumeric' for i in li ]"
   ]
  },
  {
   "cell_type": "code",
   "execution_count": 6,
   "metadata": {},
   "outputs": [
    {
     "name": "stdout",
     "output_type": "stream",
     "text": [
      "keerthi 1234 apssdc123\n"
     ]
    },
    {
     "data": {
      "text/plain": [
       "['string', 'digit', 'alphanumeric']"
      ]
     },
     "execution_count": 6,
     "metadata": {},
     "output_type": "execute_result"
    }
   ],
   "source": [
    "li=input().split()\n",
    "['string' if i.isalpha() else 'digit' if i.isdigit() else 'alphanumeric' for i in li ]"
   ]
  },
  {
   "cell_type": "code",
   "execution_count": 1,
   "metadata": {},
   "outputs": [
    {
     "name": "stdout",
     "output_type": "stream",
     "text": [
      "1 2 3 4 5\n"
     ]
    },
    {
     "data": {
      "text/plain": [
       "['1', '2', '3', '4', '5']"
      ]
     },
     "execution_count": 1,
     "metadata": {},
     "output_type": "execute_result"
    }
   ],
   "source": [
    "n = input().split()\n",
    "n"
   ]
  },
  {
   "cell_type": "markdown",
   "metadata": {},
   "source": [
    "### Dictionary Comprehension\n",
    "- Dictionary is a method for transforming one dictionary into another dictionary\n",
    "\n",
    "Syntax : {key:value for vars in iterable}"
   ]
  },
  {
   "cell_type": "code",
   "execution_count": 10,
   "metadata": {},
   "outputs": [
    {
     "data": {
      "text/plain": [
       "{1: 1, 2: 8, 3: 27}"
      ]
     },
     "execution_count": 10,
     "metadata": {},
     "output_type": "execute_result"
    }
   ],
   "source": [
    "lst = [1,2,3]\n",
    "res_dct = {var:var**3 for var in lst}\n",
    "res_dct"
   ]
  },
  {
   "cell_type": "code",
   "execution_count": 16,
   "metadata": {},
   "outputs": [
    {
     "name": "stdout",
     "output_type": "stream",
     "text": [
      "[5, 4, 2, 4, 4, 4, 5, 5, 5, 5, 2]\n",
      "{1: 5, 2: 4, 3: 2}\n"
     ]
    }
   ],
   "source": [
    "lst = [1,2,3,2,2,2,1,1,1,1,3]\n",
    "res_dct = [lst.count(i) for i in lst]\n",
    "print(res_dct)\n",
    "print(dict(list(zip(lst,res_dct))))"
   ]
  },
  {
   "cell_type": "code",
   "execution_count": 17,
   "metadata": {},
   "outputs": [
    {
     "data": {
      "text/plain": [
       "{'nirmala': 20, 'keerthi': 56}"
      ]
     },
     "execution_count": 17,
     "metadata": {},
     "output_type": "execute_result"
    }
   ],
   "source": [
    "# If conditional using dictionary comprehension\n",
    "dic = {'nirmala':20,'hema':23,'mounika':43,'keerthi':56}\n",
    "res_dict = {k:v for (k,v) in dic.items() if v%2==0}\n",
    "res_dict"
   ]
  },
  {
   "cell_type": "markdown",
   "metadata": {},
   "source": [
    "### Set Comprehension"
   ]
  },
  {
   "cell_type": "code",
   "execution_count": 18,
   "metadata": {},
   "outputs": [
    {
     "data": {
      "text/plain": [
       "{1, 3, 5}"
      ]
     },
     "execution_count": 18,
     "metadata": {},
     "output_type": "execute_result"
    }
   ],
   "source": [
    "li = [1,2,3,4,5]\n",
    "{x for x in li if x%2!=0}"
   ]
  },
  {
   "cell_type": "code",
   "execution_count": 19,
   "metadata": {},
   "outputs": [
    {
     "data": {
      "text/plain": [
       "{1, 8, 27, 64, 125}"
      ]
     },
     "execution_count": 19,
     "metadata": {},
     "output_type": "execute_result"
    }
   ],
   "source": [
    "{x**3 for x in li}"
   ]
  },
  {
   "cell_type": "markdown",
   "metadata": {},
   "source": [
    "### Generator Comprehension"
   ]
  },
  {
   "cell_type": "code",
   "execution_count": 22,
   "metadata": {},
   "outputs": [
    {
     "name": "stdout",
     "output_type": "stream",
     "text": [
      "<generator object <genexpr> at 0x000001CC840CE660>\n",
      "1\n",
      "8\n",
      "27\n",
      "64\n",
      "125\n"
     ]
    }
   ],
   "source": [
    "li = [1,2,3,4,5]\n",
    "c = (i**3 for i in li)\n",
    "print(c)\n",
    "for i in c:\n",
    "    print(i)"
   ]
  },
  {
   "cell_type": "code",
   "execution_count": null,
   "metadata": {},
   "outputs": [],
   "source": []
  }
 ],
 "metadata": {
  "kernelspec": {
   "display_name": "Python 3",
   "language": "python",
   "name": "python3"
  },
  "language_info": {
   "codemirror_mode": {
    "name": "ipython",
    "version": 3
   },
   "file_extension": ".py",
   "mimetype": "text/x-python",
   "name": "python",
   "nbconvert_exporter": "python",
   "pygments_lexer": "ipython3",
   "version": "3.8.3"
  }
 },
 "nbformat": 4,
 "nbformat_minor": 4
}
