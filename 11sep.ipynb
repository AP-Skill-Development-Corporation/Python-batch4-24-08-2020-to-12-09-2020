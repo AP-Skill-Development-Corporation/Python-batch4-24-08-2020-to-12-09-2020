{
 "cells": [
  {
   "cell_type": "markdown",
   "metadata": {},
   "source": [
    "#### Oops(Obect Oriented Programming)\n",
    "* Python is also a Obect Oriented Programming language\n",
    "* To develop applications using an oops apprach\n",
    "* In python we cn easily create and use classes and objects.\n",
    "* Oops concept focuses on writing the reusable code\n",
    "#### Major Priciples of Oops\n",
    "* Classes\n",
    "* Object\n",
    "* Constructor\n",
    "* Inheritance\n",
    "**Class**\n",
    "* It can be defined as collection of objects.It is a logical entity that has some  specific attributes and methods.\n",
    "* **Ex**: ***employee*** class.It should contain an attribute and method i.e..an emailid,name,empid,sal,des,etc...\n",
    "* **syntax**: class class_name():\n",
    "                list of vars\n",
    "                list of methods\n",
    "* collection of variables and methods.\n",
    "* Function:collection of statements\n",
    "* method:if function is existed inside the class then it called as method.\n",
    "* **class**---->keyword for creating class structure.\n",
    "* classname--->name of the class\n",
    "* class and objects are interrelated with each other."
   ]
  },
  {
   "cell_type": "code",
   "execution_count": 17,
   "metadata": {},
   "outputs": [],
   "source": [
    "class hii():\n",
    "    name=\"abc\"\n",
    "    rollno=28\n",
    "    branch=\"civil\"\n",
    "    def helo():\n",
    "        print(\"welcome all\")\n",
    "        "
   ]
  },
  {
   "cell_type": "code",
   "execution_count": 2,
   "metadata": {},
   "outputs": [
    {
     "data": {
      "text/plain": [
       "'abc'"
      ]
     },
     "execution_count": 2,
     "metadata": {},
     "output_type": "execute_result"
    }
   ],
   "source": [
    "#classname.atribute/method name\n",
    "hii.name #'.' message calling operator,hii is a classname"
   ]
  },
  {
   "cell_type": "code",
   "execution_count": 4,
   "metadata": {},
   "outputs": [
    {
     "data": {
      "text/plain": [
       "28"
      ]
     },
     "execution_count": 4,
     "metadata": {},
     "output_type": "execute_result"
    }
   ],
   "source": [
    "hii.rollno"
   ]
  },
  {
   "cell_type": "code",
   "execution_count": 8,
   "metadata": {},
   "outputs": [
    {
     "name": "stdout",
     "output_type": "stream",
     "text": [
      "welcome all\n"
     ]
    }
   ],
   "source": [
    "hii.helo()"
   ]
  },
  {
   "cell_type": "code",
   "execution_count": 11,
   "metadata": {},
   "outputs": [],
   "source": [
    "class student():\n",
    "    name=\"john\"\n",
    "    rolllno=28\n",
    "    branch=\"civil\"\n",
    "    college=\"GEC\"\n",
    "    emailid=\"john28@gmail.com\"\n",
    "    def data1():\n",
    "        print(\"welcome john\")"
   ]
  },
  {
   "cell_type": "code",
   "execution_count": 12,
   "metadata": {},
   "outputs": [
    {
     "data": {
      "text/plain": [
       "'john'"
      ]
     },
     "execution_count": 12,
     "metadata": {},
     "output_type": "execute_result"
    }
   ],
   "source": [
    "student.name"
   ]
  },
  {
   "cell_type": "code",
   "execution_count": 13,
   "metadata": {},
   "outputs": [
    {
     "name": "stdout",
     "output_type": "stream",
     "text": [
      "welcome john\n"
     ]
    }
   ],
   "source": [
    "student.data1()"
   ]
  },
  {
   "cell_type": "markdown",
   "metadata": {},
   "source": [
    "##### Object\n",
    "* object is aa instance of class\n",
    "* every object will have certain attribute and behaviour\n",
    "* We define  a class,it needs to create an object to allocate memory.\n"
   ]
  },
  {
   "cell_type": "code",
   "execution_count": 18,
   "metadata": {},
   "outputs": [],
   "source": [
    "#objectname=classname\n",
    "obj=hii"
   ]
  },
  {
   "cell_type": "code",
   "execution_count": 19,
   "metadata": {},
   "outputs": [
    {
     "name": "stdout",
     "output_type": "stream",
     "text": [
      "<class '__main__.hii'>\n"
     ]
    }
   ],
   "source": [
    "print(obj)"
   ]
  },
  {
   "cell_type": "code",
   "execution_count": 20,
   "metadata": {},
   "outputs": [
    {
     "name": "stdout",
     "output_type": "stream",
     "text": [
      "['__class__', '__delattr__', '__dict__', '__dir__', '__doc__', '__eq__', '__format__', '__ge__', '__getattribute__', '__gt__', '__hash__', '__init__', '__init_subclass__', '__le__', '__lt__', '__module__', '__ne__', '__new__', '__reduce__', '__reduce_ex__', '__repr__', '__setattr__', '__sizeof__', '__str__', '__subclasshook__', '__weakref__', 'branch', 'helo', 'name', 'rollno']\n"
     ]
    }
   ],
   "source": [
    "print(dir(obj))"
   ]
  },
  {
   "cell_type": "code",
   "execution_count": 23,
   "metadata": {},
   "outputs": [
    {
     "data": {
      "text/plain": [
       "'civil'"
      ]
     },
     "execution_count": 23,
     "metadata": {},
     "output_type": "execute_result"
    }
   ],
   "source": [
    "obj.branch"
   ]
  },
  {
   "cell_type": "code",
   "execution_count": 24,
   "metadata": {},
   "outputs": [
    {
     "data": {
      "text/plain": [
       "'abc'"
      ]
     },
     "execution_count": 24,
     "metadata": {},
     "output_type": "execute_result"
    }
   ],
   "source": [
    "obj.name"
   ]
  },
  {
   "cell_type": "code",
   "execution_count": 25,
   "metadata": {},
   "outputs": [
    {
     "data": {
      "text/plain": [
       "28"
      ]
     },
     "execution_count": 25,
     "metadata": {},
     "output_type": "execute_result"
    }
   ],
   "source": [
    "obj.rollno"
   ]
  },
  {
   "cell_type": "code",
   "execution_count": 29,
   "metadata": {},
   "outputs": [
    {
     "name": "stdout",
     "output_type": "stream",
     "text": [
      "welcome all\n"
     ]
    }
   ],
   "source": [
    "obj.helo()"
   ]
  },
  {
   "cell_type": "code",
   "execution_count": 33,
   "metadata": {},
   "outputs": [
    {
     "name": "stdout",
     "output_type": "stream",
     "text": [
      "364\n",
      "145\n",
      "1376\n",
      "59.0\n",
      "1\n"
     ]
    }
   ],
   "source": [
    "class Math():\n",
    "    #inside math class defining add(),sub(),mul(),div(),mod()\n",
    "    def add(a,b):\n",
    "        return a+b\n",
    "    def sub(a,b):\n",
    "        return a-b\n",
    "    def mul(a,b):\n",
    "        return a*b\n",
    "    def div(a,b):\n",
    "        return a/b\n",
    "    def mod(a,b):\n",
    "        return a%b\n",
    "cal=Math\n",
    "print(\"addition\",cal.add(121,243))\n",
    "print(\"subtarction\",cal.sub(324,179))\n",
    "print(\"multiplication\"cal.mul(43,32))\n",
    "print(\"division\",cal.div(177,3))\n",
    "print(\"moddivision\",cal.mod(29,7))"
   ]
  },
  {
   "cell_type": "markdown",
   "metadata": {},
   "source": [
    "#### constructor\n",
    "* the constructor is a special type method(function) which is used to **initialize members of the class**.\n",
    "**creating constructor**\n",
    "* in python,the method,**__init__()** this is the constructor of the class.\n",
    "* it accepts the **self** --->keyword as a first argumentwhich allows the accessing the attributes or methods.\n",
    "* **syntax**: class class_name():\n",
    "                    def __init__(self): #default parameter is self\n",
    "                    def __init__(self,a,b): # first variable acts as default parameter\n",
    "                    def __init__(a,b,self): #here a is default parameter"
   ]
  },
  {
   "cell_type": "code",
   "execution_count": null,
   "metadata": {},
   "outputs": [],
   "source": [
    "class Math():\n",
    "    def __init__(self,a,b,c):\n",
    "        self.a1=a\n",
    "        self.b1=b\n",
    "        self.c1=c\n",
    "    def display(self):\n",
    "        print(self.a1,self.b1)\n",
    "c"
   ]
  }
 ],
 "metadata": {
  "kernelspec": {
   "display_name": "Python 3",
   "language": "python",
   "name": "python3"
  },
  "language_info": {
   "codemirror_mode": {
    "name": "ipython",
    "version": 3
   },
   "file_extension": ".py",
   "mimetype": "text/x-python",
   "name": "python",
   "nbconvert_exporter": "python",
   "pygments_lexer": "ipython3",
   "version": "3.7.3"
  }
 },
 "nbformat": 4,
 "nbformat_minor": 2
}
