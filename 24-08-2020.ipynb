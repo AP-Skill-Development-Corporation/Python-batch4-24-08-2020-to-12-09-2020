{
 "cells": [
  {
   "cell_type": "markdown",
   "metadata": {},
   "source": [
    "## What is python?\n",
    "\n",
    "- Python is a simeple, general purpose, interpreted, high level and object-oriented programming language.\n",
    "- Python is developed by Guido Van Rossum.\n",
    "- Guido Van Rossum started implementing python in 1989, and released in 1991.\n",
    "\n",
    "## Python Features\n",
    "1. Easy to Learn and Use\n",
    "2. Interpreted Language\n",
    "3. Free and Open Source\n",
    "4. Expressive Language - Means understandable and readable\n",
    "5. Object Oriented - is a method of structuring a program by bundling related properties and behaviors into individual objects\n",
    "6. Cross-Platform Language\n",
    "7. Extensible\n",
    "8. Integreted - Python is also an Integrated language because we can easily integrated python with other languages like c, c++, etc.\n",
    "9. GUI Programming Support\n",
    "10. Large Standard Library\n",
    "\n",
    "## Python Applications\n",
    "\n",
    "- Web applications(Google, YouTube, Instagram, Drap Box...etc.)\n",
    "- Game Development\n",
    "- GUI based applications\n",
    "- Data Science\n",
    "- Scientific Computing\n",
    "- Multimedia\n",
    "- Machine Learning\n",
    "- Artificial Intelligence\n",
    "\n",
    "### Platforms to run Python\n",
    "- IDLE(Integrated Development and Learning Environment), PyCharm(integrated development environment (IDE)), PyScripter(integrated development environment (IDE)), PyDev, Anaconda, Jupyter etc...\n",
    "\n",
    "## Literate Programming\n",
    "- Is a combination of coding and documentation\n",
    "\n",
    "## Anaconda\n",
    "- Anaconda is a platform/navigator to run python\n",
    "\n",
    "## Why should we use Anaconda for Python?\n",
    "- Anaconda is popular because it brings many of the tools used in data science and machine learning.\n",
    "- Anaconda contains popular python libraries that can be used in data science."
   ]
  },
  {
   "cell_type": "markdown",
   "metadata": {},
   "source": [
    "### Markdown Format for Documentation"
   ]
  },
  {
   "cell_type": "markdown",
   "metadata": {},
   "source": [
    "# Heading1\n",
    "## Heading2\n",
    "### Heading3\n",
    "#### Heading4\n",
    "##### Heading5\n",
    "###### Heading6"
   ]
  },
  {
   "cell_type": "code",
   "execution_count": null,
   "metadata": {},
   "outputs": [],
   "source": [
    "**Bold**"
   ]
  },
  {
   "cell_type": "code",
   "execution_count": null,
   "metadata": {},
   "outputs": [],
   "source": [
    "*Italic*"
   ]
  },
  {
   "cell_type": "markdown",
   "metadata": {},
   "source": [
    "* Normal Text\n",
    "    * sublist1\n",
    "    * sublist2\n",
    "    * sublist3"
   ]
  },
  {
   "cell_type": "code",
   "execution_count": null,
   "metadata": {},
   "outputs": [],
   "source": [
    "1. ordered list element1\n",
    "2. ordered list element2"
   ]
  },
  {
   "cell_type": "code",
   "execution_count": null,
   "metadata": {},
   "outputs": [],
   "source": [
    "a. python1\n",
    "\n",
    "b. python2"
   ]
  },
  {
   "cell_type": "code",
   "execution_count": null,
   "metadata": {},
   "outputs": [],
   "source": [
    "I. PYTHON\n",
    "\n",
    "II. PYTHON"
   ]
  },
  {
   "cell_type": "code",
   "execution_count": null,
   "metadata": {},
   "outputs": [],
   "source": [
    "# image importing\n",
    "<img src='img_name.jpg'>"
   ]
  }
 ],
 "metadata": {
  "kernelspec": {
   "display_name": "Python 3",
   "language": "python",
   "name": "python3"
  },
  "language_info": {
   "codemirror_mode": {
    "name": "ipython",
    "version": 3
   },
   "file_extension": ".py",
   "mimetype": "text/x-python",
   "name": "python",
   "nbconvert_exporter": "python",
   "pygments_lexer": "ipython3",
   "version": "3.8.3"
  }
 },
 "nbformat": 4,
 "nbformat_minor": 4
}
